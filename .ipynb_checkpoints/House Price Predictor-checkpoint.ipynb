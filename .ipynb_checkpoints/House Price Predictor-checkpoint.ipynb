{
 "cells": [
  {
   "cell_type": "markdown",
   "id": "9842aeb8",
   "metadata": {},
   "source": [
    "<h1 style=\"font-size: 3rem; color: black;\"> House Price Predictor</h1>"
   ]
  },
  {
   "cell_type": "markdown",
   "id": "5330b694",
   "metadata": {},
   "source": [
    "## Importing necessary libraries"
   ]
  },
  {
   "cell_type": "code",
   "execution_count": null,
   "id": "68b75eeb",
   "metadata": {},
   "outputs": [],
   "source": [
    "import numpy as np\n",
    "import matplotlib.pyplot as plt"
   ]
  },
  {
   "cell_type": "markdown",
   "id": "75e7c93e",
   "metadata": {},
   "source": [
    "## Model"
   ]
  },
  {
   "cell_type": "code",
   "execution_count": null,
   "id": "0cc911c9",
   "metadata": {},
   "outputs": [],
   "source": [
    "# It takes the feature_input, parameters as input\n",
    "def model(x, w, b):\n",
    "    f_wb = w*x + b\n",
    "    return f_wb"
   ]
  },
  {
   "cell_type": "markdown",
   "id": "a9d1d4f4",
   "metadata": {},
   "source": [
    "## Cost function"
   ]
  },
  {
   "cell_type": "code",
   "execution_count": null,
   "id": "9b564b65",
   "metadata": {},
   "outputs": [],
   "source": [
    "def model_cost(x, y, w, b):\n",
    "    \n",
    "    m = x.shape[0]\n",
    "    cost_sum = 0\n",
    "    \n",
    "    for i in range(m):\n",
    "        f_wb = model(x[i], w, b)\n",
    "        cost = (f_wb - y[i])**2\n",
    "        cost_sum += cost\n",
    "    t_cost = (1/(2*m))*cost_sum\n",
    "    \n",
    "    return cost_sum"
   ]
  },
  {
   "cell_type": "markdown",
   "id": "7f886f07",
   "metadata": {},
   "source": [
    "## Gradient for the model"
   ]
  },
  {
   "cell_type": "code",
   "execution_count": null,
   "id": "dc484733",
   "metadata": {},
   "outputs": [],
   "source": [
    "def model_gradient(x, y, w, b):\n",
    "    \n",
    "    m = x.shape[0]\n",
    "    dj_dw = 0\n",
    "    dj_db = 0\n",
    "    \n",
    "    for i in range(m):\n",
    "        f_wb = model(x[i], w, b)\n",
    "        dj_dw_i = (f_wb - y[i]) * x[i] \n",
    "        dj_db_i = f_wb - y[i] \n",
    "        dj_db += dj_db_i\n",
    "        dj_dw += dj_dw_i \n",
    "    dj_dw = dj_dw / m \n",
    "    dj_db = dj_db / m \n",
    "    \n",
    "    return dj_dw, dj_db"
   ]
  },
  {
   "cell_type": "markdown",
   "id": "b7357604",
   "metadata": {},
   "source": [
    "## Gradient Descent"
   ]
  },
  {
   "cell_type": "code",
   "execution_count": null,
   "id": "57dde9a6",
   "metadata": {},
   "outputs": [],
   "source": [
    "def gradient_descent(x, y, w_in, b_in, alpha, iterations):\n",
    "    \n",
    "    w = w_in\n",
    "    b = b_in\n",
    "    \n",
    "    for i in range(iterations):\n",
    "        dj_dw, dj_db = model_gradient(x, y, w, b)\n",
    "        \n",
    "        w = w - alpha*dj_dw\n",
    "        b = b - alpha*dj_db\n",
    "        \n",
    "    return w, b\n",
    "    "
   ]
  },
  {
   "cell_type": "markdown",
   "id": "40e09a20",
   "metadata": {},
   "source": [
    "## Main "
   ]
  },
  {
   "cell_type": "code",
   "execution_count": null,
   "id": "ab651f7b",
   "metadata": {},
   "outputs": [],
   "source": [
    "import numpy as np\n",
    "import matplotlib.pyplot as plt\n",
    "\n",
    "x_train = np.array([1, 2])\n",
    "y_train = np.array([300.0, 500.0])\n",
    "\n",
    "w_in = 0\n",
    "b_in = 0\n",
    "alpha = 1.0e-2\n",
    "iterations = 10000\n",
    "\n",
    "# It takes the feature_input, parameters as input\n",
    "def model(x, w, b):\n",
    "    f_wb = w*x + b\n",
    "    return f_wb\n",
    "\n",
    "def model_cost(x, y, w, b):\n",
    "    \n",
    "    m = x.shape[0]\n",
    "    cost_sum = 0\n",
    "    \n",
    "    for i in range(m):\n",
    "        f_wb = model(x[i], w, b)\n",
    "        cost = (f_wb - y[i])**2\n",
    "        cost_sum += cost\n",
    "    t_cost = (1/(2*m))*cost_sum\n",
    "    \n",
    "    return cost_sum\n",
    "\n",
    "def model_gradient(x, y, w, b):\n",
    "    \n",
    "    m = x.shape[0]\n",
    "    dj_dw = 0\n",
    "    dj_db = 0\n",
    "    \n",
    "    for i in range(m):\n",
    "        f_wb = model(x[i], w, b)\n",
    "        dj_dw_i = (f_wb - y[i]) * x[i] \n",
    "        dj_db_i = f_wb - y[i] \n",
    "        dj_db += dj_db_i\n",
    "        dj_dw += dj_dw_i \n",
    "    dj_dw = dj_dw / m \n",
    "    dj_db = dj_db / m \n",
    "    \n",
    "    return dj_dw, dj_db\n",
    "\n",
    "def gradient_descent(x, y, w_in, b_in, alpha, iterations):\n",
    "    \n",
    "    w = w_in\n",
    "    b = b_in\n",
    "    \n",
    "    for i in range(iterations):\n",
    "        dj_dw, dj_db = model_gradient(x, y, w, b)\n",
    "        \n",
    "        w = w - alpha*dj_dw\n",
    "        b = b - alpha*dj_db\n",
    "        \n",
    "    return w, b\n",
    "\n",
    "w_new, b_new = gradient_descent(x_train, y_train, w_in, b_in, alpha, iterations)\n",
    "\n",
    "\n",
    "\n",
    "prediction = model(1.5, w_new, b_new)\n",
    "print(prediction)"
   ]
  },
  {
   "cell_type": "code",
   "execution_count": null,
   "id": "13e7b347",
   "metadata": {},
   "outputs": [],
   "source": []
  }
 ],
 "metadata": {
  "kernelspec": {
   "display_name": "Python 3 (ipykernel)",
   "language": "python",
   "name": "python3"
  },
  "language_info": {
   "codemirror_mode": {
    "name": "ipython",
    "version": 3
   },
   "file_extension": ".py",
   "mimetype": "text/x-python",
   "name": "python",
   "nbconvert_exporter": "python",
   "pygments_lexer": "ipython3",
   "version": "3.9.7"
  }
 },
 "nbformat": 4,
 "nbformat_minor": 5
}
