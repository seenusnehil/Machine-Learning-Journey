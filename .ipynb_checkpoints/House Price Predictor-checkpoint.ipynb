{
 "cells": [
  {
   "cell_type": "markdown",
   "id": "9842aeb8",
   "metadata": {},
   "source": [
    "<h1 style=\"font-size: 3rem; color: black;\"> House Price Predictor</h1>"
   ]
  },
  {
   "cell_type": "markdown",
   "id": "47141e83",
   "metadata": {},
   "source": [
    "###### This is a project where the model will take several n"
   ]
  },
  {
   "cell_type": "markdown",
   "id": "5330b694",
   "metadata": {},
   "source": [
    "## Importing necessary libraries"
   ]
  },
  {
   "cell_type": "code",
   "execution_count": 4,
   "id": "68b75eeb",
   "metadata": {},
   "outputs": [],
   "source": [
    "import numpy as np\n",
    "import matplotlib.pyplot as plt"
   ]
  },
  {
   "cell_type": "markdown",
   "id": "75e7c93e",
   "metadata": {},
   "source": [
    "## Model"
   ]
  },
  {
   "cell_type": "code",
   "execution_count": 18,
   "id": "f254313c",
   "metadata": {},
   "outputs": [
    {
     "name": "stdout",
     "output_type": "stream",
     "text": [
      "[0. 0. 0.]\n"
     ]
    }
   ],
   "source": [
    "import numpy as np\n",
    "\n",
    "# It takes the feature_input, parameters as input\n",
    "def model(x, w, b):\n",
    "    f_wb = np.dot(x, w) + b\n",
    "    return f_wb"
   ]
  },
  {
   "cell_type": "markdown",
   "id": "a9d1d4f4",
   "metadata": {},
   "source": [
    "## Cost function"
   ]
  },
  {
   "cell_type": "code",
   "execution_count": 21,
   "id": "9b564b65",
   "metadata": {},
   "outputs": [
    {
     "name": "stdout",
     "output_type": "stream",
     "text": [
      "0.0\n"
     ]
    }
   ],
   "source": [
    "def model_cost(x, y, w, b):\n",
    "    \n",
    "    m = x.shape[0]\n",
    "    cost_sum = 0\n",
    "    \n",
    "    for i in range(m):\n",
    "        f_wb = model(x[i], w, b)\n",
    "        cost = (f_wb - y[i])**2\n",
    "        cost_sum += cost\n",
    "    t_cost = (1/(2*m))*cost_sum\n",
    "    \n",
    "    return cost_sum"
   ]
  },
  {
   "cell_type": "markdown",
   "id": "7f886f07",
   "metadata": {},
   "source": [
    "## Gradient for the model"
   ]
  },
  {
   "cell_type": "code",
   "execution_count": 22,
   "id": "dc484733",
   "metadata": {},
   "outputs": [
    {
     "name": "stdout",
     "output_type": "stream",
     "text": [
      "297108.0\n",
      "(array([-4.82669333e+05, -1.11733333e+03, -3.67333333e+02, -1.20700000e+04]), -290.0)\n"
     ]
    }
   ],
   "source": [
    "def model_gradient(x, y, w, b):\n",
    "    \n",
    "    m, n = x.shape\n",
    "    dj_dw = np.zeros((n,))\n",
    "    dj_db = 0.0\n",
    "    \n",
    "    for i in range(m):\n",
    "        f_wb = model(x[i], w, b)\n",
    "        err = f_wb - y[i]\n",
    "        for j in range(n):\n",
    "            # derivative is taken for each feature\n",
    "            dj_dw[j] += err*x[i][j]\n",
    "        dj_db += err\n",
    "    dj_dw = dj_dw/m\n",
    "    dj_db = dj_db/m\n",
    "    \n",
    "    return dj_dw, dj_db"
   ]
  },
  {
   "cell_type": "markdown",
   "id": "b7357604",
   "metadata": {},
   "source": [
    "## Gradient Descent"
   ]
  },
  {
   "cell_type": "code",
   "execution_count": 30,
   "id": "57dde9a6",
   "metadata": {},
   "outputs": [],
   "source": [
    "def gradient_descent(x, y, w_in, b_in, alpha, iterations):\n",
    "    \n",
    "    w = w_in\n",
    "    b = b_in\n",
    "    \n",
    "    for i in range(iterations):\n",
    "        dj_dw, dj_db = model_gradient(x, y, w, b)\n",
    "        w = w - alpha*dj_dw\n",
    "        b = b - alpha*dj_db\n",
    "\n",
    "        \n",
    "    return w, b\n",
    "    "
   ]
  },
  {
   "cell_type": "markdown",
   "id": "40e09a20",
   "metadata": {},
   "source": [
    "## Main "
   ]
  },
  {
   "cell_type": "code",
   "execution_count": 47,
   "id": "ab651f7b",
   "metadata": {},
   "outputs": [
    {
     "ename": "ValueError",
     "evalue": "not enough values to unpack (expected 2, got 1)",
     "output_type": "error",
     "traceback": [
      "\u001b[1;31m---------------------------------------------------------------------------\u001b[0m",
      "\u001b[1;31mValueError\u001b[0m                                Traceback (most recent call last)",
      "Input \u001b[1;32mIn [47]\u001b[0m, in \u001b[0;36m<cell line: 70>\u001b[1;34m()\u001b[0m\n\u001b[0;32m     66\u001b[0m         b \u001b[38;5;241m=\u001b[39m b \u001b[38;5;241m-\u001b[39m alpha\u001b[38;5;241m*\u001b[39mdj_db\n\u001b[0;32m     68\u001b[0m     \u001b[38;5;28;01mreturn\u001b[39;00m w, b\n\u001b[1;32m---> 70\u001b[0m w_new, b_new \u001b[38;5;241m=\u001b[39m \u001b[43mgradient_descent\u001b[49m\u001b[43m(\u001b[49m\u001b[43mx_train\u001b[49m\u001b[43m,\u001b[49m\u001b[43m \u001b[49m\u001b[43my_train\u001b[49m\u001b[43m,\u001b[49m\u001b[43m \u001b[49m\u001b[43mw_in\u001b[49m\u001b[43m,\u001b[49m\u001b[43m \u001b[49m\u001b[43mb_in\u001b[49m\u001b[43m,\u001b[49m\u001b[43m \u001b[49m\u001b[43malpha\u001b[49m\u001b[43m,\u001b[49m\u001b[43m \u001b[49m\u001b[43miterations\u001b[49m\u001b[43m)\u001b[49m\n\u001b[0;32m     72\u001b[0m \u001b[38;5;28mprint\u001b[39m(\u001b[38;5;124mf\u001b[39m\u001b[38;5;124m\"\u001b[39m\u001b[38;5;124mCost before gradient descent:\u001b[39m\u001b[38;5;132;01m{\u001b[39;00mmodel_cost(x_train, y_train, w_in, b_in)\u001b[38;5;132;01m}\u001b[39;00m\u001b[38;5;124m\"\u001b[39m)\n\u001b[0;32m     73\u001b[0m \u001b[38;5;28mprint\u001b[39m(\u001b[38;5;124mf\u001b[39m\u001b[38;5;124m\"\u001b[39m\u001b[38;5;124mCost after using gradient descent: \u001b[39m\u001b[38;5;132;01m{\u001b[39;00mmodel_cost(x_train, y_train, w_new, b_new)\u001b[38;5;132;01m}\u001b[39;00m\u001b[38;5;124m\"\u001b[39m)\n",
      "Input \u001b[1;32mIn [47]\u001b[0m, in \u001b[0;36mgradient_descent\u001b[1;34m(x, y, w_in, b_in, alpha, iterations)\u001b[0m\n\u001b[0;32m     60\u001b[0m b \u001b[38;5;241m=\u001b[39m b_in\n\u001b[0;32m     62\u001b[0m \u001b[38;5;28;01mfor\u001b[39;00m i \u001b[38;5;129;01min\u001b[39;00m \u001b[38;5;28mrange\u001b[39m(iterations):\n\u001b[1;32m---> 63\u001b[0m     dj_dw, dj_db \u001b[38;5;241m=\u001b[39m \u001b[43mmodel_gradient\u001b[49m\u001b[43m(\u001b[49m\u001b[43mx\u001b[49m\u001b[43m,\u001b[49m\u001b[43m \u001b[49m\u001b[43my\u001b[49m\u001b[43m,\u001b[49m\u001b[43m \u001b[49m\u001b[43mw\u001b[49m\u001b[43m,\u001b[49m\u001b[43m \u001b[49m\u001b[43mb\u001b[49m\u001b[43m)\u001b[49m\n\u001b[0;32m     65\u001b[0m     w \u001b[38;5;241m=\u001b[39m w \u001b[38;5;241m-\u001b[39m alpha\u001b[38;5;241m*\u001b[39mdj_dw\n\u001b[0;32m     66\u001b[0m     b \u001b[38;5;241m=\u001b[39m b \u001b[38;5;241m-\u001b[39m alpha\u001b[38;5;241m*\u001b[39mdj_db\n",
      "Input \u001b[1;32mIn [47]\u001b[0m, in \u001b[0;36mmodel_gradient\u001b[1;34m(x, y, w, b)\u001b[0m\n\u001b[0;32m     40\u001b[0m \u001b[38;5;28;01mdef\u001b[39;00m \u001b[38;5;21mmodel_gradient\u001b[39m(x, y, w, b):\n\u001b[1;32m---> 42\u001b[0m     m, n \u001b[38;5;241m=\u001b[39m x\u001b[38;5;241m.\u001b[39mshape\n\u001b[0;32m     43\u001b[0m     dj_dw \u001b[38;5;241m=\u001b[39m np\u001b[38;5;241m.\u001b[39mzeros((n,))\n\u001b[0;32m     44\u001b[0m     dj_db \u001b[38;5;241m=\u001b[39m \u001b[38;5;241m0.0\u001b[39m\n",
      "\u001b[1;31mValueError\u001b[0m: not enough values to unpack (expected 2, got 1)"
     ]
    }
   ],
   "source": [
    "import numpy as np\n",
    "import pandas as pd\n",
    "import matplotlib.pyplot as plt\n",
    "\n",
    "#x_train = np.array([2104.0, 1416.0, 1534.0, 852.0, 3210.0])\n",
    "#y_train = np.array([400.0, 232.0, 315.0, 178.0, 870.0])\n",
    "\n",
    "x_train = np.array([[2104, 5, 1, 45], [1416, 3, 2, 40], [852, 2, 1, 35]])\n",
    "y_train = np.array([460, 232, 178])\n",
    "\n",
    "\n",
    "w_in = np.array([0, 0, 0, 0])\n",
    "b_in = 0.\n",
    "\n",
    "# selecting a proper alpha can avoid you from getting errors like Runtime error: overflow encountered in double_scalars \n",
    "alpha = 5.0e-7\n",
    "iterations = 1000\n",
    "\n",
    "# It takes the feature_input, parameters as input\n",
    "def model(x, w, b):\n",
    "    f_wb = np.dot(w, x) + b\n",
    "    return f_wb\n",
    "\n",
    "def model_cost(x, y, w, b):\n",
    "    \n",
    "    m = x.shape[0]\n",
    "    cost_sum = 0.0\n",
    "    \n",
    "    for i in range(m):\n",
    "        f_wb = model(x[i], w, b)\n",
    "        cost = (f_wb - y[i])**2\n",
    "        cost_sum += cost\n",
    "    t_cost = (1/(2*m))*cost_sum\n",
    "    \n",
    "    return cost_sum\n",
    "\n",
    "def model_gradient(x, y, w, b):\n",
    "    \n",
    "    m, n = x.shape\n",
    "    dj_dw = np.zeros((n,))\n",
    "    dj_db = 0.0\n",
    "    \n",
    "    for i in range(m):\n",
    "        err = model(x[i], w, b) - y[i]\n",
    "        for j in range(n):\n",
    "            dj_dw[j] += err*x[i][j]\n",
    "        dj_db += err\n",
    "    \n",
    "    dj_dw = dj_dw/m\n",
    "    dj_db = dj_db/m\n",
    "    \n",
    "    return dj_dw, dj_db\n",
    "\n",
    "def gradient_descent(x, y, w_in, b_in, alpha, iterations):\n",
    "    \n",
    "    w = w_in\n",
    "    b = b_in\n",
    "    \n",
    "    for i in range(iterations):\n",
    "        dj_dw, dj_db = model_gradient(x, y, w, b)\n",
    "        \n",
    "        w = w - alpha*dj_dw\n",
    "        b = b - alpha*dj_db\n",
    "        \n",
    "    return w, b\n",
    "\n",
    "w_new, b_new = gradient_descent(x_train, y_train, w_in, b_in, alpha, iterations)\n",
    "\n",
    "print(f\"Cost before gradient descent:{model_cost(x_train, y_train, w_in, b_in)}\")\n",
    "print(f\"Cost after using gradient descent: {model_cost(x_train, y_train, w_new, b_new)}\")\n",
    "\n",
    "user = np.array([2000, 4, 1, 30])\n",
    "prediction = model(user, w_new, b_new)\n",
    "print(f\"Predicted cost of the house: {prediction}\")"
   ]
  },
  {
   "cell_type": "code",
   "execution_count": null,
   "id": "f2027501",
   "metadata": {},
   "outputs": [],
   "source": []
  }
 ],
 "metadata": {
  "kernelspec": {
   "display_name": "Python 3 (ipykernel)",
   "language": "python",
   "name": "python3"
  },
  "language_info": {
   "codemirror_mode": {
    "name": "ipython",
    "version": 3
   },
   "file_extension": ".py",
   "mimetype": "text/x-python",
   "name": "python",
   "nbconvert_exporter": "python",
   "pygments_lexer": "ipython3",
   "version": "3.9.7"
  }
 },
 "nbformat": 4,
 "nbformat_minor": 5
}
