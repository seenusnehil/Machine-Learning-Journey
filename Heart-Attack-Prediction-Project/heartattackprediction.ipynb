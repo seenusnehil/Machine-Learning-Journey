{
 "cells": [
  {
   "cell_type": "markdown",
   "id": "cbb78404",
   "metadata": {},
   "source": [
    "## Importing all the necessary libraries"
   ]
  },
  {
   "cell_type": "code",
   "execution_count": 2,
   "id": "9e290374",
   "metadata": {},
   "outputs": [],
   "source": [
    "import pandas as pd\n",
    "import numpy as np\n",
    "import seaborn as sns\n",
    "import matplotlib.pyplot as plt\n",
    "\n",
    "from scipy import stats\n",
    "from sklearn.ensemble import RandomForestClassifier\n",
    "from sklearn.model_selection import train_test_split, cross_val_score, cross_val_predict\n",
    "from sklearn import metrics\n",
    "from sklearn import datasets\n",
    "from sklearn.linear_model import LogisticRegression"
   ]
  },
  {
   "cell_type": "markdown",
   "id": "47026d62",
   "metadata": {},
   "source": [
    "## Loading the dataset \n",
    "Now, after importing the necessary libraries, we now need to import the dataset onto which we are going to work, and run the classification models to predict the heart attack for any random dataset"
   ]
  },
  {
   "cell_type": "code",
   "execution_count": 3,
   "id": "6bf0b2a1",
   "metadata": {},
   "outputs": [
    {
     "data": {
      "text/plain": [
       "(303, 14)"
      ]
     },
     "execution_count": 3,
     "metadata": {},
     "output_type": "execute_result"
    }
   ],
   "source": [
    "#Loading the dataset\n",
    "data = pd.read_csv('heart.csv')\n",
    "data = pd.DataFrame(data)\n",
    "\n",
    "# Some information about the data\n",
    "data.shape\n",
    "#data.info()\n",
    "#data.head()"
   ]
  },
  {
   "cell_type": "markdown",
   "id": "a2ee84fa",
   "metadata": {},
   "source": [
    "## Data Preprocessing\n",
    "Here, we will perform some operations of the given dataset to check whether the dataset contains any:\n",
    "    1. Null Values/Missing Values\n",
    "    2. Duplicate values\n",
    "    3. Outliers\n",
    "    \n",
    "And if there are any anomalies in the given data, we'll remove it using respective techniques"
   ]
  },
  {
   "cell_type": "code",
   "execution_count": 4,
   "id": "4983a6dd",
   "metadata": {},
   "outputs": [
    {
     "name": "stdout",
     "output_type": "stream",
     "text": [
      "Null values:\n",
      " age         0\n",
      "sex         0\n",
      "cp          0\n",
      "trtbps      0\n",
      "chol        0\n",
      "fbs         0\n",
      "restecg     0\n",
      "thalachh    0\n",
      "exng        0\n",
      "oldpeak     0\n",
      "slp         0\n",
      "caa         0\n",
      "thall       0\n",
      "output      0\n",
      "dtype: int64\n",
      "Number of duplicate rows before dropping them:  (1, 14)\n",
      "Number of duplicate rows after dropping them:  (0, 14)\n"
     ]
    }
   ],
   "source": [
    "# Checking if the dataset contains any null value or not\n",
    "print(f\"Null values:\\n\",data.isnull().sum())\n",
    "\n",
    "# Checking if the dataset contains duplicate values in any row\n",
    "duplicate_rows = data[data.duplicated()]\n",
    "print(\"Number of duplicate rows before dropping them: \", duplicate_rows.shape)   \n",
    "\n",
    "# Since we have one duplicate row, we dropped that particular row\n",
    "data = data.drop_duplicates()\n",
    "\n",
    "duplicate_rows = data[data.duplicated()]\n",
    "print(\"Number of duplicate rows after dropping them: \", duplicate_rows.shape)  \n",
    "\n",
    "# Now, we check for the outliers in the data if they exist\n",
    "headers = ['age', 'sex', 'cp', 'trtbps', 'chol', 'fbs', 'restecg', 'thalachh', 'exng', 'oldpeak', 'slp', 'caa', 'thall']\n",
    "\n",
    "# If you want to see the all box plots in a single frame, you can loop through them\n",
    "#for i in range(len(headers)):\n",
    "  #  sns.boxplot(x = data[headers[i]])\n",
    "    \n",
    "# Now we'll observe boxplot for each of the features"
   ]
  },
  {
   "cell_type": "code",
   "execution_count": 5,
   "id": "40ba4ba6",
   "metadata": {},
   "outputs": [
    {
     "data": {
      "text/plain": [
       "<AxesSubplot:xlabel='age'>"
      ]
     },
     "execution_count": 5,
     "metadata": {},
     "output_type": "execute_result"
    },
    {
     "data": {
      "image/png": "[encoded data removed]",
      "text/plain": [
       "<Figure size 432x288 with 1 Axes>"
      ]
     },
     "metadata": {
      "needs_background": "light"
     },
     "output_type": "display_data"
    }
   ],
   "source": [
    "sns.boxplot(x = data['age'])"
   ]
  },
  {
   "cell_type": "code",
   "execution_count": 73,
   "id": "6cda423a",
   "metadata": {},
   "outputs": [
    {
     "data": {
      "text/plain": [
       "<AxesSubplot:xlabel='sex'>"
      ]
     },
     "execution_count": 73,
     "metadata": {},
     "output_type": "execute_result"
    },
    {
     "data": {
      "image/png": "[encoded data removed]",
      "text/plain": [
       "<Figure size 432x288 with 1 Axes>"
      ]
     },
     "metadata": {
      "needs_background": "light"
     },
     "output_type": "display_data"
    }
   ],
   "source": [
    "sns.boxplot(x = data['sex'])"
   ]
  },
  {
   "cell_type": "code",
   "execution_count": 74,
   "id": "7b5cf062",
   "metadata": {},
   "outputs": [
    {
     "data": {
      "text/plain": [
       "<AxesSubplot:xlabel='cp'>"
      ]
     },
     "execution_count": 74,
     "metadata": {},
     "output_type": "execute_result"
    },
    {
     "data": {
      "image/png": "[encoded data removed]",
      "text/plain": [
       "<Figure size 432x288 with 1 Axes>"
      ]
     },
     "metadata": {
      "needs_background": "light"
     },
     "output_type": "display_data"
    }
   ],
   "source": [
    "sns.boxplot(x = data['cp'])"
   ]
  },
  {
   "cell_type": "code",
   "execution_count": 75,
   "id": "f29feb5d",
   "metadata": {},
   "outputs": [
    {
     "data": {
      "text/plain": [
       "<AxesSubplot:xlabel='trtbps'>"
      ]
     },
     "execution_count": 75,
     "metadata": {},
     "output_type": "execute_result"
    },
    {
     "data": {
      "image/png": "[encoded data removed]",
      "text/plain": [
       "<Figure size 432x288 with 1 Axes>"
      ]
     },
     "metadata": {
      "needs_background": "light"
     },
     "output_type": "display_data"
    }
   ],
   "source": [
    "sns.boxplot(x = data['trtbps'])"
   ]
  },
  {
   "cell_type": "code",
   "execution_count": 76,
   "id": "8d2d16b6",
   "metadata": {},
   "outputs": [
    {
     "data": {
      "text/plain": [
       "<AxesSubplot:xlabel='chol'>"
      ]
     },
     "execution_count": 76,
     "metadata": {},
     "output_type": "execute_result"
    },
    {
     "data": {
      "image/png": "[encoded data removed]",
      "text/plain": [
       "<Figure size 432x288 with 1 Axes>"
      ]
     },
     "metadata": {
      "needs_background": "light"
     },
     "output_type": "display_data"
    }
   ],
   "source": [
    "sns.boxplot(x = data['chol'])"
   ]
  },
  {
   "cell_type": "code",
   "execution_count": 77,
   "id": "19810e09",
   "metadata": {},
   "outputs": [
    {
     "data": {
      "text/plain": [
       "<AxesSubplot:xlabel='fbs'>"
      ]
     },
     "execution_count": 77,
     "metadata": {},
     "output_type": "execute_result"
    },
    {
     "data": {
      "image/png": "[encoded data removed]",
      "text/plain": [
       "<Figure size 432x288 with 1 Axes>"
      ]
     },
     "metadata": {
      "needs_background": "light"
     },
     "output_type": "display_data"
    }
   ],
   "source": [
    "sns.boxplot(x = data['fbs'])"
   ]
  },
  {
   "cell_type": "code",
   "execution_count": 78,
   "id": "3b306564",
   "metadata": {},
   "outputs": [
    {
     "data": {
      "text/plain": [
       "<AxesSubplot:xlabel='restecg'>"
      ]
     },
     "execution_count": 78,
     "metadata": {},
     "output_type": "execute_result"
    },
    {
     "data": {
      "image/png": "[encoded data removed]",
      "text/plain": [
       "<Figure size 432x288 with 1 Axes>"
      ]
     },
     "metadata": {
      "needs_background": "light"
     },
     "output_type": "display_data"
    }
   ],
   "source": [
    "sns.boxplot(x = data['restecg'])"
   ]
  },
  {
   "cell_type": "code",
   "execution_count": 79,
   "id": "da875536",
   "metadata": {},
   "outputs": [
    {
     "data": {
      "text/plain": [
       "<AxesSubplot:xlabel='thalachh'>"
      ]
     },
     "execution_count": 79,
     "metadata": {},
     "output_type": "execute_result"
    },
    {
     "data": {
      "image/png": "[encoded data removed]",
      "text/plain": [
       "<Figure size 432x288 with 1 Axes>"
      ]
     },
     "metadata": {
      "needs_background": "light"
     },
     "output_type": "display_data"
    }
   ],
   "source": [
    "sns.boxplot(x = data['thalachh'])"
   ]
  },
  {
   "cell_type": "code",
   "execution_count": 80,
   "id": "b6b3c04d",
   "metadata": {},
   "outputs": [
    {
     "data": {
      "text/plain": [
       "<AxesSubplot:xlabel='exng'>"
      ]
     },
     "execution_count": 80,
     "metadata": {},
     "output_type": "execute_result"
    },
    {
     "data": {
      "image/png": "[encoded data removed]",
      "text/plain": [
       "<Figure size 432x288 with 1 Axes>"
      ]
     },
     "metadata": {
      "needs_background": "light"
     },
     "output_type": "display_data"
    }
   ],
   "source": [
    "sns.boxplot(x = data['exng'])"
   ]
  },
  {
   "cell_type": "code",
   "execution_count": 81,
   "id": "6a4009c2",
   "metadata": {},
   "outputs": [
    {
     "data": {
      "text/plain": [
       "<AxesSubplot:xlabel='oldpeak'>"
      ]
     },
     "execution_count": 81,
     "metadata": {},
     "output_type": "execute_result"
    },
    {
     "data": {
      "image/png": "[encoded data removed]",
      "text/plain": [
       "<Figure size 432x288 with 1 Axes>"
      ]
     },
     "metadata": {
      "needs_background": "light"
     },
     "output_type": "display_data"
    }
   ],
   "source": [
    "sns.boxplot(x = data['oldpeak'])"
   ]
  },
  {
   "cell_type": "code",
   "execution_count": 82,
   "id": "3444b0b1",
   "metadata": {},
   "outputs": [
    {
     "data": {
      "text/plain": [
       "<AxesSubplot:xlabel='caa'>"
      ]
     },
     "execution_count": 82,
     "metadata": {},
     "output_type": "execute_result"
    },
    {
     "data": {
      "image/png": "[encoded data removed]",
      "text/plain": [
       "<Figure size 432x288 with 1 Axes>"
      ]
     },
     "metadata": {
      "needs_background": "light"
     },
     "output_type": "display_data"
    }
   ],
   "source": [
    "sns.boxplot(x = data['caa'])"
   ]
  },
  {
   "cell_type": "code",
   "execution_count": 83,
   "id": "275de066",
   "metadata": {},
   "outputs": [
    {
     "data": {
      "text/plain": [
       "<AxesSubplot:xlabel='thall'>"
      ]
     },
     "execution_count": 83,
     "metadata": {},
     "output_type": "execute_result"
    },
    {
     "data": {
      "image/png": "[encoded data removed]",
      "text/plain": [
       "<Figure size 432x288 with 1 Axes>"
      ]
     },
     "metadata": {
      "needs_background": "light"
     },
     "output_type": "display_data"
    }
   ],
   "source": [
    "sns.boxplot(x = data['thall'])"
   ]
  },
  {
   "cell_type": "code",
   "execution_count": 8,
   "id": "4531c097",
   "metadata": {},
   "outputs": [
    {
     "data": {
      "text/plain": [
       "(287, 14)"
      ]
     },
     "execution_count": 8,
     "metadata": {},
     "output_type": "execute_result"
    }
   ],
   "source": [
    "# So after observing the boxplots of different columns, we can see that there exists some outliers\n",
    "# So lets remove them\n",
    "Q1 = data.quantile(0.25)\n",
    "Q3 = data.quantile(0.75)\n",
    "\n",
    "# Calculating the IQR for each column\n",
    "IQR = Q3-Q1\n",
    "\n",
    "# Removing outliers\n",
    "z_score = stats.zscore(data)\n",
    "z = np.abs(z_score)\n",
    "new_data = data[(z<3).all(axis=1)]\n",
    "\n",
    "new_data.shape"
   ]
  },
  {
   "cell_type": "markdown",
   "id": "18ea19e1",
   "metadata": {},
   "source": [
    "## Building Models for classification"
   ]
  },
  {
   "cell_type": "code",
   "execution_count": 108,
   "id": "114635eb",
   "metadata": {},
   "outputs": [
    {
     "name": "stdout",
     "output_type": "stream",
     "text": [
      "Predicted classes using Logistic Regression:  [1 1 1 1 0 1 1 1 0 1 1 0 1 1 1 1 1 1 1 1 1 1 1 0 0 0 1 1 1 0 0 1 0 0 1 0 1\n",
      " 1 1 1 1 0 1 1 1 1 1 0 1 0 0 1 1 0 1 1 0 0 1 1 1 0 0 0 0 1 1 1 0 0 1 0 0 1\n",
      " 1 1 1 1 0 1 1 1 1 1 0 1 0]\n",
      "\n",
      "Predicted classes using random forest:  [1 1 1 1 0 1 1 1 0 1 1 0 1 1 1 1 1 1 1 1 1 1 1 0 0 0 1 1 1 0 0 1 0 0 1 0 1\n",
      " 1 1 0 1 0 1 1 1 1 1 0 1 0 0 1 0 0 1 1 0 0 1 1 1 0 0 0 0 1 1 1 0 0 1 0 0 1\n",
      " 1 1 1 1 0 1 1 1 1 1 1 1 0]\n"
     ]
    }
   ],
   "source": [
    "# Now, building models for classification\n",
    "x = new_data.drop(\"output\", axis=1)\n",
    "y = new_data['output']\n",
    "\n",
    "x_train, x_test, y_train, y_test = train_test_split(x, y, test_size=0.3)\n",
    "\n",
    "# Logistic Regression\n",
    "log_reg = LogisticRegression(random_state=0, solver='liblinear')\n",
    "log_reg.fit(x_train, y_train)\n",
    "yhat_log_reg = log_reg.predict(x_test)\n",
    "print(f\"Predicted classes using Logistic Regression: \", yhat_log_reg)\n",
    "\n",
    "print('')\n",
    "\n",
    "# Random Forest\n",
    "rand_for = RandomForestClassifier(n_estimators=500)\n",
    "rand_for.fit(x_train,y_train)\n",
    "yhat_rand_for = rand_for.predict(x_test)\n",
    "print(f\"Predicted classes using random forest: \", yhat_rand_for)"
   ]
  },
  {
   "cell_type": "markdown",
   "id": "83963372",
   "metadata": {},
   "source": [
    "## Checking accuracies of the classifiers"
   ]
  },
  {
   "cell_type": "code",
   "execution_count": 109,
   "id": "6ab21905",
   "metadata": {},
   "outputs": [
    {
     "name": "stdout",
     "output_type": "stream",
     "text": [
      "Logistic Regression ::  0.8390804597701149\n",
      "Random Forest ::  0.8275862068965517\n"
     ]
    }
   ],
   "source": [
    "#Models and their accuracy\n",
    "print(\"Logistic Regression :: \", metrics.accuracy_score(y_test,yhat_log_reg))\n",
    "print(\"Random Forest :: \", metrics.accuracy_score(y_test, yhat_rand_for))"
   ]
  }
 ],
 "metadata": {
  "kernelspec": {
   "display_name": "Python 3 (ipykernel)",
   "language": "python",
   "name": "python3"
  },
  "language_info": {
   "codemirror_mode": {
    "name": "ipython",
    "version": 3
   },
   "file_extension": ".py",
   "mimetype": "text/x-python",
   "name": "python",
   "nbconvert_exporter": "python",
   "pygments_lexer": "ipython3",
   "version": "3.9.7"
  }
 },
 "nbformat": 4,
 "nbformat_minor": 5
}
