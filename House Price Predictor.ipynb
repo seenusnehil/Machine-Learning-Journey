{
 "cells": [
  {
   "cell_type": "markdown",
   "id": "dfed0e2c",
   "metadata": {},
   "source": [
    "<h1 style=\"font-size: 3rem; color: black;\"> House Price Predictor</h1>"
   ]
  },
  {
   "cell_type": "markdown",
   "id": "784a9f40",
   "metadata": {},
   "source": [
    "## Importing necessary libraries"
   ]
  },
  {
   "cell_type": "code",
   "execution_count": null,
   "id": "24dfa8f6",
   "metadata": {},
   "outputs": [],
   "source": [
    "import numpy as np\n",
    "import matplotlib.pyplot as plt"
   ]
  },
  {
   "cell_type": "markdown",
   "id": "0ea71dd3",
   "metadata": {},
   "source": [
    "## Model"
   ]
  },
  {
   "cell_type": "code",
   "execution_count": null,
   "id": "4c6fa98c",
   "metadata": {},
   "outputs": [],
   "source": [
    "# It takes the feature_input, parameters as input\n",
    "def model(x, w, b):\n",
    "    price = w*x + b\n",
    "    return price"
   ]
  },
  {
   "cell_type": "markdown",
   "id": "735a6472",
   "metadata": {},
   "source": [
    "## Main "
   ]
  },
  {
   "cell_type": "code",
   "execution_count": null,
   "id": "dc0faaac",
   "metadata": {},
   "outputs": [],
   "source": [
    "x_train = []\n",
    "y_train"
   ]
  }
 ],
 "metadata": {
  "kernelspec": {
   "display_name": "Python 3 (ipykernel)",
   "language": "python",
   "name": "python3"
  },
  "language_info": {
   "codemirror_mode": {
    "name": "ipython",
    "version": 3
   },
   "file_extension": ".py",
   "mimetype": "text/x-python",
   "name": "python",
   "nbconvert_exporter": "python",
   "pygments_lexer": "ipython3",
   "version": "3.9.7"
  }
 },
 "nbformat": 4,
 "nbformat_minor": 5
}
