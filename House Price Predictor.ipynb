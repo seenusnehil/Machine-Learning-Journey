{
 "cells": [
  {
   "cell_type": "markdown",
   "id": "084a0ec0",
   "metadata": {},
   "source": [
    "<h1 style=\"font-size: 3rem; color: black;\"> House Price Predictor</h1>"
   ]
  },
  {
   "cell_type": "markdown",
   "id": "d3526249",
   "metadata": {},
   "source": [
    "## Importing necessary libraries"
   ]
  },
  {
   "cell_type": "code",
   "execution_count": null,
   "id": "d2515301",
   "metadata": {},
   "outputs": [],
   "source": [
    "import numpy as np\n",
    "import matplotlib.pyplot as plt"
   ]
  },
  {
   "cell_type": "markdown",
   "id": "56482703",
   "metadata": {},
   "source": [
    "## Model"
   ]
  },
  {
   "cell_type": "code",
   "execution_count": null,
   "id": "cf7085e1",
   "metadata": {},
   "outputs": [],
   "source": [
    "# It takes the feature_input, parameters as input\n",
    "def model(x, w, b):\n",
    "    price = w*x + b\n",
    "    return price"
   ]
  },
  {
   "cell_type": "markdown",
   "id": "988964b0",
   "metadata": {},
   "source": [
    "## Main "
   ]
  },
  {
   "cell_type": "code",
   "execution_count": null,
   "id": "95081f5d",
   "metadata": {},
   "outputs": [],
   "source": [
    "x_train = [2104, 1416, 1534, 852, 3210]\n",
    "y_train = [400, 232, 315, 178, 870]\n",
    "\n"
   ]
  }
 ],
 "metadata": {
  "kernelspec": {
   "display_name": "Python 3 (ipykernel)",
   "language": "python",
   "name": "python3"
  },
  "language_info": {
   "codemirror_mode": {
    "name": "ipython",
    "version": 3
   },
   "file_extension": ".py",
   "mimetype": "text/x-python",
   "name": "python",
   "nbconvert_exporter": "python",
   "pygments_lexer": "ipython3",
   "version": "3.9.7"
  }
 },
 "nbformat": 4,
 "nbformat_minor": 5
}
