{
 "cells": [
  {
   "cell_type": "markdown",
   "id": "b5a5086d",
   "metadata": {},
   "source": [
    "<h1 style=\"font-size: 3rem; color: black;\"> House Price Predictor</h1>"
   ]
  },
  {
   "cell_type": "markdown",
   "id": "9c61f82d",
   "metadata": {},
   "source": [
    "## Importing necessary libraries"
   ]
  },
  {
   "cell_type": "code",
   "execution_count": null,
   "id": "81632ea7",
   "metadata": {},
   "outputs": [],
   "source": [
    "import numpy as np\n",
    "import matplotlib.pyplot as plt"
   ]
  },
  {
   "cell_type": "markdown",
   "id": "b8405f8b",
   "metadata": {},
   "source": [
    "## Model"
   ]
  },
  {
   "cell_type": "code",
   "execution_count": null,
   "id": "dc92d293",
   "metadata": {},
   "outputs": [],
   "source": [
    "# It takes the feature_input, parameters as input\n",
    "def model(x, w, b):\n",
    "    f_wb = w*x + b\n",
    "    return f_wb"
   ]
  },
  {
   "cell_type": "markdown",
   "id": "ae160d78",
   "metadata": {},
   "source": [
    "## Cost function"
   ]
  },
  {
   "cell_type": "code",
   "execution_count": null,
   "id": "f88dc83f",
   "metadata": {},
   "outputs": [],
   "source": [
    "def model_cost(x, y, w, b):\n",
    "    \n",
    "    m = x.shape[0]\n",
    "    cost_sum = 0\n",
    "    \n",
    "    for i in range(m):\n",
    "        f_wb = model(x[i], w, b)\n",
    "        cost = (f_wb - y[i])**2\n",
    "        cost_sum += cost\n",
    "    t_cost = (1/(2*m))*cost_sum\n",
    "    \n",
    "    return cost_sum"
   ]
  },
  {
   "cell_type": "markdown",
   "id": "2b175b4a",
   "metadata": {},
   "source": [
    "## Gradient for the model"
   ]
  },
  {
   "cell_type": "code",
   "execution_count": null,
   "id": "b7a9633a",
   "metadata": {},
   "outputs": [],
   "source": [
    "def model_gradient(x, y, w, b):\n",
    "    \n",
    "    m = x.shape[0]\n",
    "    dj_dw = 0\n",
    "    dj_db = 0\n",
    "    \n",
    "    for i in range(m):\n",
    "        f_wb = model(x[i], w, b)\n",
    "        dj_dw_i = (f_wb - y[i]) * x[i] \n",
    "        dj_db_i = f_wb - y[i] \n",
    "        dj_db += dj_db_i\n",
    "        dj_dw += dj_dw_i \n",
    "    dj_dw = dj_dw / m \n",
    "    dj_db = dj_db / m \n",
    "    \n",
    "    return dj_dw, dj_db"
   ]
  },
  {
   "cell_type": "markdown",
   "id": "d114e5f5",
   "metadata": {},
   "source": [
    "## Gradient Descent"
   ]
  },
  {
   "cell_type": "code",
   "execution_count": null,
   "id": "cd19cc78",
   "metadata": {},
   "outputs": [],
   "source": [
    "def gradient_descent(x, y, w_in, b_in, alpha, iterations):\n",
    "    \n",
    "    w = w_in\n",
    "    b = b_in\n",
    "    \n",
    "    for i in range(iterations):\n",
    "        dj_dw, dj_db = model_gradient(x, y, w, b)\n",
    "        \n",
    "        w = w - alpha*dj_dw\n",
    "        b = b - alpha*dj_db\n",
    "        \n",
    "    return w, b\n",
    "    "
   ]
  },
  {
   "cell_type": "markdown",
   "id": "221c2ca1",
   "metadata": {},
   "source": [
    "## Main "
   ]
  },
  {
   "cell_type": "code",
   "execution_count": 10,
   "id": "daddbb47",
   "metadata": {},
   "outputs": [
    {
     "name": "stdout",
     "output_type": "stream",
     "text": [
      "nan\n"
     ]
    },
    {
     "name": "stderr",
     "output_type": "stream",
     "text": [
      "C:\\Users\\Snehil Seenu\\AppData\\Local\\Temp\\ipykernel_17324\\2551645456.py:38: RuntimeWarning: overflow encountered in double_scalars\n",
      "  dj_dw_i = (f_wb - y[i]) * x[i]\n",
      "C:\\Users\\Snehil Seenu\\AppData\\Local\\Temp\\ipykernel_17324\\2551645456.py:55: RuntimeWarning: invalid value encountered in double_scalars\n",
      "  w = w - alpha*dj_dw\n"
     ]
    }
   ],
   "source": [
    "import numpy as np\n",
    "import matplotlib.pyplot as plt\n",
    "\n",
    "x_train = np.array([2104.0, 1416.0, 1534.0, 852.0, 3210.0])\n",
    "y_train = np.array([400.0, 232.0, 315.0, 178.0, 870.0])\n",
    "\n",
    "w_in = 0\n",
    "b_in = 0\n",
    "alpha = 1.0e-2\n",
    "iterations = 10000\n",
    "\n",
    "# It takes the feature_input, parameters as input\n",
    "def model(x, w, b):\n",
    "    f_wb = w*x + b\n",
    "    return f_wb\n",
    "\n",
    "def model_cost(x, y, w, b):\n",
    "    \n",
    "    m = x.shape[0]\n",
    "    cost_sum = 0\n",
    "    \n",
    "    for i in range(m):\n",
    "        f_wb = model(x[i], w, b)\n",
    "        cost = (f_wb - y[i])**2\n",
    "        cost_sum += cost\n",
    "    t_cost = (1/(2*m))*cost_sum\n",
    "    \n",
    "    return cost_sum\n",
    "\n",
    "def model_gradient(x, y, w, b):\n",
    "    \n",
    "    m = x.shape[0]\n",
    "    dj_dw = 0\n",
    "    dj_db = 0\n",
    "    \n",
    "    for i in range(m):\n",
    "        f_wb = model(x[i], w, b)\n",
    "        dj_dw_i = (f_wb - y[i]) * x[i] \n",
    "        dj_db_i = f_wb - y[i] \n",
    "        dj_db += dj_db_i\n",
    "        dj_dw += dj_dw_i \n",
    "    dj_dw = dj_dw / m \n",
    "    dj_db = dj_db / m \n",
    "    \n",
    "    return dj_dw, dj_db\n",
    "\n",
    "def gradient_descent(x, y, w_in, b_in, alpha, iterations):\n",
    "    \n",
    "    w = w_in\n",
    "    b = b_in\n",
    "    \n",
    "    for i in range(iterations):\n",
    "        dj_dw, dj_db = model_gradient(x, y, w, b)\n",
    "        \n",
    "        w = w - alpha*dj_dw\n",
    "        b = b - alpha*dj_db\n",
    "        \n",
    "    return w, b\n",
    "\n",
    "w_new, b_new = gradient_descent(x_train, y_train, w_in, b_in, alpha, iterations)\n",
    "\n",
    "prediction = model(2000.0, w_new, b_new)\n",
    "print(prediction)"
   ]
  },
  {
   "cell_type": "code",
   "execution_count": null,
   "id": "9ffa7d9c",
   "metadata": {},
   "outputs": [],
   "source": []
  }
 ],
 "metadata": {
  "kernelspec": {
   "display_name": "Python 3 (ipykernel)",
   "language": "python",
   "name": "python3"
  },
  "language_info": {
   "codemirror_mode": {
    "name": "ipython",
    "version": 3
   },
   "file_extension": ".py",
   "mimetype": "text/x-python",
   "name": "python",
   "nbconvert_exporter": "python",
   "pygments_lexer": "ipython3",
   "version": "3.9.7"
  }
 },
 "nbformat": 4,
 "nbformat_minor": 5
}
