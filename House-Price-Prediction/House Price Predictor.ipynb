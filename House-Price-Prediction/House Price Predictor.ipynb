{
 "cells": [
  {
   "cell_type": "markdown",
   "id": "9842aeb8",
   "metadata": {},
   "source": [
    "<h1 style=\"font-size: 3rem; color: black;\"> House Price Predictor</h1>"
   ]
  },
  {
   "cell_type": "markdown",
   "id": "47141e83",
   "metadata": {},
   "source": [
    "###### This is a project where the model will take several features to evaluate the price of the house\n",
    "###### Problem Statement:\n",
    "Consider a real estate company that has a dataset containing the prices of properties in the Delhi region. It wishes to use the data to optimise the sale prices of the properties based on important factors such as area, bedrooms, age and floors.\n",
    "\n",
    "###### Essentially, the company wants —\n",
    "\n",
    "To identify the variables affecting house prices, e.g. area, number of rooms, bathrooms, etc.\n",
    "\n",
    "To create a linear model that quantitatively relates house prices with variables such as number of rooms, area, number of bathrooms, etc.\n",
    "\n",
    "To know the accuracy of the model, i.e. how well these variables can predict house prices."
   ]
  },
  {
   "cell_type": "markdown",
   "id": "5330b694",
   "metadata": {},
   "source": [
    "## Importing necessary libraries"
   ]
  },
  {
   "cell_type": "code",
   "execution_count": 4,
   "id": "68b75eeb",
   "metadata": {},
   "outputs": [],
   "source": [
    "import numpy as np\n",
    "import matplotlib.pyplot as plt"
   ]
  },
  {
   "cell_type": "markdown",
   "id": "75e7c93e",
   "metadata": {},
   "source": [
    "## Model"
   ]
  },
  {
   "cell_type": "code",
   "execution_count": 18,
   "id": "759fb254",
   "metadata": {},
   "outputs": [
    {
     "name": "stdout",
     "output_type": "stream",
     "text": [
      "[0. 0. 0.]\n"
     ]
    }
   ],
   "source": [
    "import numpy as np\n",
    "\n",
    "# It takes the feature_input, parameters as input\n",
    "def model(x, w, b):\n",
    "    f_wb = np.dot(x, w) + b\n",
    "    return f_wb"
   ]
  },
  {
   "cell_type": "markdown",
   "id": "a9d1d4f4",
   "metadata": {},
   "source": [
    "## Cost function"
   ]
  },
  {
   "cell_type": "code",
   "execution_count": 21,
   "id": "9b564b65",
   "metadata": {},
   "outputs": [
    {
     "name": "stdout",
     "output_type": "stream",
     "text": [
      "0.0\n"
     ]
    }
   ],
   "source": [
    "def model_cost(x, y, w, b):\n",
    "    \n",
    "    m = x.shape[0]\n",
    "    cost_sum = 0\n",
    "    \n",
    "    for i in range(m):\n",
    "        f_wb = model(x[i], w, b)\n",
    "        cost = (f_wb - y[i])**2\n",
    "        cost_sum += cost\n",
    "    t_cost = (1/(2*m))*cost_sum\n",
    "    \n",
    "    return cost_sum"
   ]
  },
  {
   "cell_type": "markdown",
   "id": "7f886f07",
   "metadata": {},
   "source": [
    "## Gradient for the model"
   ]
  },
  {
   "cell_type": "code",
   "execution_count": 22,
   "id": "dc484733",
   "metadata": {},
   "outputs": [
    {
     "name": "stdout",
     "output_type": "stream",
     "text": [
      "297108.0\n",
      "(array([-4.82669333e+05, -1.11733333e+03, -3.67333333e+02, -1.20700000e+04]), -290.0)\n"
     ]
    }
   ],
   "source": [
    "def model_gradient(x, y, w, b):\n",
    "    \n",
    "    m, n = x.shape\n",
    "    dj_dw = np.zeros((n,))\n",
    "    dj_db = 0.0\n",
    "    \n",
    "    for i in range(m):\n",
    "        f_wb = model(x[i], w, b)\n",
    "        err = f_wb - y[i]\n",
    "        for j in range(n):\n",
    "            # derivative is taken for each feature\n",
    "            dj_dw[j] += err*x[i][j]\n",
    "        dj_db += err\n",
    "    dj_dw = dj_dw/m\n",
    "    dj_db = dj_db/m\n",
    "    \n",
    "    return dj_dw, dj_db"
   ]
  },
  {
   "cell_type": "markdown",
   "id": "b7357604",
   "metadata": {},
   "source": [
    "## Gradient Descent"
   ]
  },
  {
   "cell_type": "code",
   "execution_count": 30,
   "id": "57dde9a6",
   "metadata": {},
   "outputs": [],
   "source": [
    "def gradient_descent(x, y, w_in, b_in, alpha, iterations):\n",
    "    \n",
    "    w = w_in\n",
    "    b = b_in\n",
    "    \n",
    "    for i in range(iterations):\n",
    "        dj_dw, dj_db = model_gradient(x, y, w, b)\n",
    "        w = w - alpha*dj_dw\n",
    "        b = b - alpha*dj_db\n",
    "\n",
    "        \n",
    "    return w, b\n",
    "    "
   ]
  },
  {
   "cell_type": "markdown",
   "id": "40e09a20",
   "metadata": {},
   "source": [
    "## Main "
   ]
  },
  {
   "cell_type": "code",
   "execution_count": 54,
   "id": "ab651f7b",
   "metadata": {},
   "outputs": [
    {
     "name": "stdout",
     "output_type": "stream",
     "text": [
      "Cost before gradient descent:297108.0\n",
      "Cost after using gradient descent: 4120.220469999123\n",
      "prediction: 426.18530497189204, target value: 460\n",
      "prediction: 286.1674720078562, target value: 232\n",
      "prediction: 171.46763087132317, target value: 178\n"
     ]
    }
   ],
   "source": [
    "import numpy as np\n",
    "import pandas as pd\n",
    "import matplotlib.pyplot as plt\n",
    "\n",
    "#x_train = np.array([2104.0, 1416.0, 1534.0, 852.0, 3210.0])\n",
    "#y_train = np.array([400.0, 232.0, 315.0, 178.0, 870.0])\n",
    "\n",
    "x_train = np.array([[2104, 5, 1, 45], [1416, 3, 2, 40], [852, 2, 1, 35]])\n",
    "y_train = np.array([460, 232, 178])\n",
    "\n",
    "\n",
    "w_in = np.array([0, 0, 0, 0])\n",
    "b_in = 0.\n",
    "\n",
    "# selecting a proper alpha can avoid you from getting errors like Runtime error: overflow encountered in double_scalars \n",
    "alpha = 5.0e-7\n",
    "iterations = 1000\n",
    "\n",
    "# It takes the feature_input, parameters as input\n",
    "def model(x, w, b):\n",
    "    f_wb = np.dot(x, w) + b\n",
    "    return f_wb\n",
    "\n",
    "def model_cost(x, y, w, b):\n",
    "    \n",
    "    m = x.shape[0]\n",
    "    cost_sum = 0.0\n",
    "    \n",
    "    for i in range(m):\n",
    "        f_wb = model(x[i], w, b)\n",
    "        cost = (f_wb - y[i])**2\n",
    "        cost_sum += cost\n",
    "    t_cost = (1/(2*m))*cost_sum\n",
    "    \n",
    "    return cost_sum\n",
    "\n",
    "def model_gradient(x, y, w, b):\n",
    "    \n",
    "    m, n = x.shape\n",
    "    dj_dw = np.zeros((n,))\n",
    "    dj_db = 0.0\n",
    "    \n",
    "    for i in range(m):\n",
    "        err = model(x[i], w, b) - y[i]\n",
    "        for j in range(n):\n",
    "            dj_dw[j] += err*x[i][j]\n",
    "        dj_db += err\n",
    "    \n",
    "    dj_dw = dj_dw/m\n",
    "    dj_db = dj_db/m\n",
    "    \n",
    "    return dj_dw, dj_db\n",
    "\n",
    "def gradient_descent(x, y, w_in, b_in, alpha, iterations):\n",
    "    \n",
    "    w = w_in\n",
    "    b = b_in\n",
    "    \n",
    "    for i in range(iterations):\n",
    "        dj_dw, dj_db = model_gradient(x, y, w, b)\n",
    "        \n",
    "        w = w - alpha*dj_dw\n",
    "        b = b - alpha*dj_db\n",
    "        \n",
    "    return w, b\n",
    "\n",
    "w_new, b_new = gradient_descent(x_train, y_train, w_in, b_in, alpha, iterations)\n",
    "\n",
    "print(f\"Cost before gradient descent:{model_cost(x_train, y_train, w_in, b_in)}\")\n",
    "print(f\"Cost after using gradient descent: {model_cost(x_train, y_train, w_new, b_new)}\")\n",
    "\n",
    "m = x_train.shape[0]\n",
    "for i in range(m):\n",
    "    print(f\"prediction: {model(x_train[i], w_new, b_new)}, target value: {y_train[i]}\")"
   ]
  },
  {
   "cell_type": "code",
   "execution_count": null,
   "id": "b430f33e",
   "metadata": {},
   "outputs": [],
   "source": []
  }
 ],
 "metadata": {
  "kernelspec": {
   "display_name": "Python 3 (ipykernel)",
   "language": "python",
   "name": "python3"
  },
  "language_info": {
   "codemirror_mode": {
    "name": "ipython",
    "version": 3
   },
   "file_extension": ".py",
   "mimetype": "text/x-python",
   "name": "python",
   "nbconvert_exporter": "python",
   "pygments_lexer": "ipython3",
   "version": "3.9.7"
  }
 },
 "nbformat": 4,
 "nbformat_minor": 5
}
