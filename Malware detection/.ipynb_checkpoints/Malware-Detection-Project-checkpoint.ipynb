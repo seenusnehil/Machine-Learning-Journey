{
 "cells": [
  {
   "cell_type": "markdown",
   "id": "a535ae86",
   "metadata": {},
   "source": [
    "## Importing necessary libraries"
   ]
  },
  {
   "cell_type": "code",
   "execution_count": 118,
   "id": "4327a6d8",
   "metadata": {},
   "outputs": [],
   "source": [
    "import pandas as pd\n",
    "import numpy as np\n",
    "import matplotlib.pyplot as plt\n",
    "import seaborn as sns\n",
    "\n",
    "from sklearn.metrics import f1_score\n",
    "from sklearn.metrics import roc_auc_score\n",
    "from sklearn.metrics import log_loss\n",
    "from sklearn.linear_model import LinearRegression\n",
    "from sklearn.naive_bayes import GaussianNB\n",
    "from sklearn.linear_model import SGDClassifier\n",
    "from sklearn.ensemble import RandomForestClassifier\n",
    "from sklearn.model_selection import train_test_split\n",
    "from sklearn.linear_model import LogisticRegression\n",
    "from sklearn.metrics import accuracy_score\n",
    "from sklearn.ensemble import RandomForestClassifier\n",
    "from sklearn.linear_model import Perceptron\n",
    "from sklearn.linear_model import SGDClassifier\n",
    "from sklearn.tree import DecisionTreeClassifier\n",
    "from sklearn.neighbors import KNeighborsClassifier\n",
    "from sklearn.svm import SVC, LinearSVC\n",
    "from sklearn.naive_bayes import GaussianNB\n",
    "from sklearn import linear_model"
   ]
  },
  {
   "cell_type": "markdown",
   "id": "8a52eeac",
   "metadata": {},
   "source": [
    "## Loading Data"
   ]
  },
  {
   "cell_type": "code",
   "execution_count": 16,
   "id": "6a311a7b",
   "metadata": {},
   "outputs": [
    {
     "data": {
      "text/html": [
       "<div>\n",
       "<style scoped>\n",
       "    .dataframe tbody tr th:only-of-type {\n",
       "        vertical-align: middle;\n",
       "    }\n",
       "\n",
       "    .dataframe tbody tr th {\n",
       "        vertical-align: top;\n",
       "    }\n",
       "\n",
       "    .dataframe thead th {\n",
       "        text-align: right;\n",
       "    }\n",
       "</style>\n",
       "<table border=\"1\" class=\"dataframe\">\n",
       "  <thead>\n",
       "    <tr style=\"text-align: right;\">\n",
       "      <th></th>\n",
       "      <th>hash</th>\n",
       "      <th>millisecond</th>\n",
       "      <th>classification</th>\n",
       "      <th>state</th>\n",
       "      <th>usage_counter</th>\n",
       "      <th>prio</th>\n",
       "      <th>static_prio</th>\n",
       "      <th>normal_prio</th>\n",
       "      <th>policy</th>\n",
       "      <th>vm_pgoff</th>\n",
       "      <th>...</th>\n",
       "      <th>nivcsw</th>\n",
       "      <th>min_flt</th>\n",
       "      <th>maj_flt</th>\n",
       "      <th>fs_excl_counter</th>\n",
       "      <th>lock</th>\n",
       "      <th>utime</th>\n",
       "      <th>stime</th>\n",
       "      <th>gtime</th>\n",
       "      <th>cgtime</th>\n",
       "      <th>signal_nvcsw</th>\n",
       "    </tr>\n",
       "  </thead>\n",
       "  <tbody>\n",
       "    <tr>\n",
       "      <th>0</th>\n",
       "      <td>42fb5e2ec009a05ff5143227297074f1e9c6c3ebb9c914...</td>\n",
       "      <td>0</td>\n",
       "      <td>malware</td>\n",
       "      <td>0</td>\n",
       "      <td>0</td>\n",
       "      <td>3069378560</td>\n",
       "      <td>14274</td>\n",
       "      <td>0</td>\n",
       "      <td>0</td>\n",
       "      <td>0</td>\n",
       "      <td>...</td>\n",
       "      <td>0</td>\n",
       "      <td>0</td>\n",
       "      <td>120</td>\n",
       "      <td>0</td>\n",
       "      <td>3204448256</td>\n",
       "      <td>380690</td>\n",
       "      <td>4</td>\n",
       "      <td>0</td>\n",
       "      <td>0</td>\n",
       "      <td>0</td>\n",
       "    </tr>\n",
       "    <tr>\n",
       "      <th>1</th>\n",
       "      <td>42fb5e2ec009a05ff5143227297074f1e9c6c3ebb9c914...</td>\n",
       "      <td>1</td>\n",
       "      <td>malware</td>\n",
       "      <td>0</td>\n",
       "      <td>0</td>\n",
       "      <td>3069378560</td>\n",
       "      <td>14274</td>\n",
       "      <td>0</td>\n",
       "      <td>0</td>\n",
       "      <td>0</td>\n",
       "      <td>...</td>\n",
       "      <td>0</td>\n",
       "      <td>0</td>\n",
       "      <td>120</td>\n",
       "      <td>0</td>\n",
       "      <td>3204448256</td>\n",
       "      <td>380690</td>\n",
       "      <td>4</td>\n",
       "      <td>0</td>\n",
       "      <td>0</td>\n",
       "      <td>0</td>\n",
       "    </tr>\n",
       "    <tr>\n",
       "      <th>2</th>\n",
       "      <td>42fb5e2ec009a05ff5143227297074f1e9c6c3ebb9c914...</td>\n",
       "      <td>2</td>\n",
       "      <td>malware</td>\n",
       "      <td>0</td>\n",
       "      <td>0</td>\n",
       "      <td>3069378560</td>\n",
       "      <td>14274</td>\n",
       "      <td>0</td>\n",
       "      <td>0</td>\n",
       "      <td>0</td>\n",
       "      <td>...</td>\n",
       "      <td>0</td>\n",
       "      <td>0</td>\n",
       "      <td>120</td>\n",
       "      <td>0</td>\n",
       "      <td>3204448256</td>\n",
       "      <td>380690</td>\n",
       "      <td>4</td>\n",
       "      <td>0</td>\n",
       "      <td>0</td>\n",
       "      <td>0</td>\n",
       "    </tr>\n",
       "    <tr>\n",
       "      <th>3</th>\n",
       "      <td>42fb5e2ec009a05ff5143227297074f1e9c6c3ebb9c914...</td>\n",
       "      <td>3</td>\n",
       "      <td>malware</td>\n",
       "      <td>0</td>\n",
       "      <td>0</td>\n",
       "      <td>3069378560</td>\n",
       "      <td>14274</td>\n",
       "      <td>0</td>\n",
       "      <td>0</td>\n",
       "      <td>0</td>\n",
       "      <td>...</td>\n",
       "      <td>0</td>\n",
       "      <td>0</td>\n",
       "      <td>120</td>\n",
       "      <td>0</td>\n",
       "      <td>3204448256</td>\n",
       "      <td>380690</td>\n",
       "      <td>4</td>\n",
       "      <td>0</td>\n",
       "      <td>0</td>\n",
       "      <td>0</td>\n",
       "    </tr>\n",
       "    <tr>\n",
       "      <th>4</th>\n",
       "      <td>42fb5e2ec009a05ff5143227297074f1e9c6c3ebb9c914...</td>\n",
       "      <td>4</td>\n",
       "      <td>malware</td>\n",
       "      <td>0</td>\n",
       "      <td>0</td>\n",
       "      <td>3069378560</td>\n",
       "      <td>14274</td>\n",
       "      <td>0</td>\n",
       "      <td>0</td>\n",
       "      <td>0</td>\n",
       "      <td>...</td>\n",
       "      <td>0</td>\n",
       "      <td>0</td>\n",
       "      <td>120</td>\n",
       "      <td>0</td>\n",
       "      <td>3204448256</td>\n",
       "      <td>380690</td>\n",
       "      <td>4</td>\n",
       "      <td>0</td>\n",
       "      <td>0</td>\n",
       "      <td>0</td>\n",
       "    </tr>\n",
       "  </tbody>\n",
       "</table>\n",
       "<p>5 rows × 35 columns</p>\n",
       "</div>"
      ],
      "text/plain": [
       "                                                hash  millisecond  \\\n",
       "0  42fb5e2ec009a05ff5143227297074f1e9c6c3ebb9c914...            0   \n",
       "1  42fb5e2ec009a05ff5143227297074f1e9c6c3ebb9c914...            1   \n",
       "2  42fb5e2ec009a05ff5143227297074f1e9c6c3ebb9c914...            2   \n",
       "3  42fb5e2ec009a05ff5143227297074f1e9c6c3ebb9c914...            3   \n",
       "4  42fb5e2ec009a05ff5143227297074f1e9c6c3ebb9c914...            4   \n",
       "\n",
       "  classification  state  usage_counter        prio  static_prio  normal_prio  \\\n",
       "0        malware      0              0  3069378560        14274            0   \n",
       "1        malware      0              0  3069378560        14274            0   \n",
       "2        malware      0              0  3069378560        14274            0   \n",
       "3        malware      0              0  3069378560        14274            0   \n",
       "4        malware      0              0  3069378560        14274            0   \n",
       "\n",
       "   policy  vm_pgoff  ...  nivcsw  min_flt  maj_flt  fs_excl_counter  \\\n",
       "0       0         0  ...       0        0      120                0   \n",
       "1       0         0  ...       0        0      120                0   \n",
       "2       0         0  ...       0        0      120                0   \n",
       "3       0         0  ...       0        0      120                0   \n",
       "4       0         0  ...       0        0      120                0   \n",
       "\n",
       "         lock   utime  stime  gtime  cgtime  signal_nvcsw  \n",
       "0  3204448256  380690      4      0       0             0  \n",
       "1  3204448256  380690      4      0       0             0  \n",
       "2  3204448256  380690      4      0       0             0  \n",
       "3  3204448256  380690      4      0       0             0  \n",
       "4  3204448256  380690      4      0       0             0  \n",
       "\n",
       "[5 rows x 35 columns]"
      ]
     },
     "execution_count": 16,
     "metadata": {},
     "output_type": "execute_result"
    }
   ],
   "source": [
    "data = pd.read_csv(\"malware.csv\")\n",
    "data = pd.DataFrame(data)\n",
    "data.head()"
   ]
  },
  {
   "cell_type": "code",
   "execution_count": 17,
   "id": "857a3cf2",
   "metadata": {},
   "outputs": [
    {
     "data": {
      "text/plain": [
       "(100000, 35)"
      ]
     },
     "execution_count": 17,
     "metadata": {},
     "output_type": "execute_result"
    }
   ],
   "source": [
    "data.shape"
   ]
  },
  {
   "cell_type": "markdown",
   "id": "be0fddf9",
   "metadata": {},
   "source": [
    "## Data Preprocessing"
   ]
  },
  {
   "cell_type": "code",
   "execution_count": 18,
   "id": "de14d4ec",
   "metadata": {},
   "outputs": [
    {
     "name": "stdout",
     "output_type": "stream",
     "text": [
      "Null values:\n",
      " hash                 0\n",
      "millisecond          0\n",
      "classification       0\n",
      "state                0\n",
      "usage_counter        0\n",
      "prio                 0\n",
      "static_prio          0\n",
      "normal_prio          0\n",
      "policy               0\n",
      "vm_pgoff             0\n",
      "vm_truncate_count    0\n",
      "task_size            0\n",
      "cached_hole_size     0\n",
      "free_area_cache      0\n",
      "mm_users             0\n",
      "map_count            0\n",
      "hiwater_rss          0\n",
      "total_vm             0\n",
      "shared_vm            0\n",
      "exec_vm              0\n",
      "reserved_vm          0\n",
      "nr_ptes              0\n",
      "end_data             0\n",
      "last_interval        0\n",
      "nvcsw                0\n",
      "nivcsw               0\n",
      "min_flt              0\n",
      "maj_flt              0\n",
      "fs_excl_counter      0\n",
      "lock                 0\n",
      "utime                0\n",
      "stime                0\n",
      "gtime                0\n",
      "cgtime               0\n",
      "signal_nvcsw         0\n",
      "dtype: int64\n"
     ]
    }
   ],
   "source": [
    "# Checking that is there any null values in the given dataset or not\n",
    "print(f\"Null values:\\n\",data.isnull().sum())"
   ]
  },
  {
   "cell_type": "code",
   "execution_count": 19,
   "id": "b2a26fbc",
   "metadata": {},
   "outputs": [
    {
     "name": "stdout",
     "output_type": "stream",
     "text": [
      "Number of rows with duplicate values (0, 35)\n"
     ]
    }
   ],
   "source": [
    "duplicate_rows = data[data.duplicated()]\n",
    "print(\"Number of rows with duplicate values\", duplicate_rows.shape)  "
   ]
  },
  {
   "cell_type": "code",
   "execution_count": 23,
   "id": "146a8048",
   "metadata": {},
   "outputs": [
    {
     "data": {
      "text/plain": [
       "malware    50000\n",
       "benign     50000\n",
       "Name: classification, dtype: int64"
      ]
     },
     "execution_count": 23,
     "metadata": {},
     "output_type": "execute_result"
    }
   ],
   "source": [
    "data[\"classification\"].value_counts()"
   ]
  },
  {
   "cell_type": "code",
   "execution_count": 27,
   "id": "c9053f1d",
   "metadata": {},
   "outputs": [
    {
     "data": {
      "text/html": [
       "<div>\n",
       "<style scoped>\n",
       "    .dataframe tbody tr th:only-of-type {\n",
       "        vertical-align: middle;\n",
       "    }\n",
       "\n",
       "    .dataframe tbody tr th {\n",
       "        vertical-align: top;\n",
       "    }\n",
       "\n",
       "    .dataframe thead th {\n",
       "        text-align: right;\n",
       "    }\n",
       "</style>\n",
       "<table border=\"1\" class=\"dataframe\">\n",
       "  <thead>\n",
       "    <tr style=\"text-align: right;\">\n",
       "      <th></th>\n",
       "      <th>hash</th>\n",
       "      <th>millisecond</th>\n",
       "      <th>classification</th>\n",
       "      <th>state</th>\n",
       "      <th>usage_counter</th>\n",
       "      <th>prio</th>\n",
       "      <th>static_prio</th>\n",
       "      <th>normal_prio</th>\n",
       "      <th>policy</th>\n",
       "      <th>vm_pgoff</th>\n",
       "      <th>...</th>\n",
       "      <th>nivcsw</th>\n",
       "      <th>min_flt</th>\n",
       "      <th>maj_flt</th>\n",
       "      <th>fs_excl_counter</th>\n",
       "      <th>lock</th>\n",
       "      <th>utime</th>\n",
       "      <th>stime</th>\n",
       "      <th>gtime</th>\n",
       "      <th>cgtime</th>\n",
       "      <th>signal_nvcsw</th>\n",
       "    </tr>\n",
       "  </thead>\n",
       "  <tbody>\n",
       "    <tr>\n",
       "      <th>0</th>\n",
       "      <td>42fb5e2ec009a05ff5143227297074f1e9c6c3ebb9c914...</td>\n",
       "      <td>0</td>\n",
       "      <td>1</td>\n",
       "      <td>0</td>\n",
       "      <td>0</td>\n",
       "      <td>3069378560</td>\n",
       "      <td>14274</td>\n",
       "      <td>0</td>\n",
       "      <td>0</td>\n",
       "      <td>0</td>\n",
       "      <td>...</td>\n",
       "      <td>0</td>\n",
       "      <td>0</td>\n",
       "      <td>120</td>\n",
       "      <td>0</td>\n",
       "      <td>3204448256</td>\n",
       "      <td>380690</td>\n",
       "      <td>4</td>\n",
       "      <td>0</td>\n",
       "      <td>0</td>\n",
       "      <td>0</td>\n",
       "    </tr>\n",
       "    <tr>\n",
       "      <th>1</th>\n",
       "      <td>42fb5e2ec009a05ff5143227297074f1e9c6c3ebb9c914...</td>\n",
       "      <td>1</td>\n",
       "      <td>1</td>\n",
       "      <td>0</td>\n",
       "      <td>0</td>\n",
       "      <td>3069378560</td>\n",
       "      <td>14274</td>\n",
       "      <td>0</td>\n",
       "      <td>0</td>\n",
       "      <td>0</td>\n",
       "      <td>...</td>\n",
       "      <td>0</td>\n",
       "      <td>0</td>\n",
       "      <td>120</td>\n",
       "      <td>0</td>\n",
       "      <td>3204448256</td>\n",
       "      <td>380690</td>\n",
       "      <td>4</td>\n",
       "      <td>0</td>\n",
       "      <td>0</td>\n",
       "      <td>0</td>\n",
       "    </tr>\n",
       "    <tr>\n",
       "      <th>2</th>\n",
       "      <td>42fb5e2ec009a05ff5143227297074f1e9c6c3ebb9c914...</td>\n",
       "      <td>2</td>\n",
       "      <td>1</td>\n",
       "      <td>0</td>\n",
       "      <td>0</td>\n",
       "      <td>3069378560</td>\n",
       "      <td>14274</td>\n",
       "      <td>0</td>\n",
       "      <td>0</td>\n",
       "      <td>0</td>\n",
       "      <td>...</td>\n",
       "      <td>0</td>\n",
       "      <td>0</td>\n",
       "      <td>120</td>\n",
       "      <td>0</td>\n",
       "      <td>3204448256</td>\n",
       "      <td>380690</td>\n",
       "      <td>4</td>\n",
       "      <td>0</td>\n",
       "      <td>0</td>\n",
       "      <td>0</td>\n",
       "    </tr>\n",
       "    <tr>\n",
       "      <th>3</th>\n",
       "      <td>42fb5e2ec009a05ff5143227297074f1e9c6c3ebb9c914...</td>\n",
       "      <td>3</td>\n",
       "      <td>1</td>\n",
       "      <td>0</td>\n",
       "      <td>0</td>\n",
       "      <td>3069378560</td>\n",
       "      <td>14274</td>\n",
       "      <td>0</td>\n",
       "      <td>0</td>\n",
       "      <td>0</td>\n",
       "      <td>...</td>\n",
       "      <td>0</td>\n",
       "      <td>0</td>\n",
       "      <td>120</td>\n",
       "      <td>0</td>\n",
       "      <td>3204448256</td>\n",
       "      <td>380690</td>\n",
       "      <td>4</td>\n",
       "      <td>0</td>\n",
       "      <td>0</td>\n",
       "      <td>0</td>\n",
       "    </tr>\n",
       "    <tr>\n",
       "      <th>4</th>\n",
       "      <td>42fb5e2ec009a05ff5143227297074f1e9c6c3ebb9c914...</td>\n",
       "      <td>4</td>\n",
       "      <td>1</td>\n",
       "      <td>0</td>\n",
       "      <td>0</td>\n",
       "      <td>3069378560</td>\n",
       "      <td>14274</td>\n",
       "      <td>0</td>\n",
       "      <td>0</td>\n",
       "      <td>0</td>\n",
       "      <td>...</td>\n",
       "      <td>0</td>\n",
       "      <td>0</td>\n",
       "      <td>120</td>\n",
       "      <td>0</td>\n",
       "      <td>3204448256</td>\n",
       "      <td>380690</td>\n",
       "      <td>4</td>\n",
       "      <td>0</td>\n",
       "      <td>0</td>\n",
       "      <td>0</td>\n",
       "    </tr>\n",
       "  </tbody>\n",
       "</table>\n",
       "<p>5 rows × 35 columns</p>\n",
       "</div>"
      ],
      "text/plain": [
       "                                                hash  millisecond  \\\n",
       "0  42fb5e2ec009a05ff5143227297074f1e9c6c3ebb9c914...            0   \n",
       "1  42fb5e2ec009a05ff5143227297074f1e9c6c3ebb9c914...            1   \n",
       "2  42fb5e2ec009a05ff5143227297074f1e9c6c3ebb9c914...            2   \n",
       "3  42fb5e2ec009a05ff5143227297074f1e9c6c3ebb9c914...            3   \n",
       "4  42fb5e2ec009a05ff5143227297074f1e9c6c3ebb9c914...            4   \n",
       "\n",
       "   classification  state  usage_counter        prio  static_prio  normal_prio  \\\n",
       "0               1      0              0  3069378560        14274            0   \n",
       "1               1      0              0  3069378560        14274            0   \n",
       "2               1      0              0  3069378560        14274            0   \n",
       "3               1      0              0  3069378560        14274            0   \n",
       "4               1      0              0  3069378560        14274            0   \n",
       "\n",
       "   policy  vm_pgoff  ...  nivcsw  min_flt  maj_flt  fs_excl_counter  \\\n",
       "0       0         0  ...       0        0      120                0   \n",
       "1       0         0  ...       0        0      120                0   \n",
       "2       0         0  ...       0        0      120                0   \n",
       "3       0         0  ...       0        0      120                0   \n",
       "4       0         0  ...       0        0      120                0   \n",
       "\n",
       "         lock   utime  stime  gtime  cgtime  signal_nvcsw  \n",
       "0  3204448256  380690      4      0       0             0  \n",
       "1  3204448256  380690      4      0       0             0  \n",
       "2  3204448256  380690      4      0       0             0  \n",
       "3  3204448256  380690      4      0       0             0  \n",
       "4  3204448256  380690      4      0       0             0  \n",
       "\n",
       "[5 rows x 35 columns]"
      ]
     },
     "execution_count": 27,
     "metadata": {},
     "output_type": "execute_result"
    }
   ],
   "source": [
    "# Making value every row classified as malware to 1 and 0 to that are defined as benign\n",
    "data['classification'] = data['classification'].replace(['malware', 'benign'], [1, 0])\n",
    "data.head()"
   ]
  },
  {
   "cell_type": "code",
   "execution_count": 40,
   "id": "6d60337a",
   "metadata": {},
   "outputs": [
    {
     "name": "stdout",
     "output_type": "stream",
     "text": [
      "<class 'str'>\n"
     ]
    }
   ],
   "source": [
    "# All the columns in the given dataset\n",
    "\n",
    "columns = ['hash', 'millisecond', 'classification', 'state', 'usage_counter',\n",
    "       'prio', 'static_prio', 'normal_prio', 'policy', 'vm_pgoff',\n",
    "       'vm_truncate_count', 'task_size', 'cached_hole_size', 'free_area_cache',\n",
    "       'mm_users', 'map_count', 'hiwater_rss', 'total_vm', 'shared_vm',\n",
    "       'exec_vm', 'reserved_vm', 'nr_ptes', 'end_data', 'last_interval',\n",
    "       'nvcsw', 'nivcsw', 'min_flt', 'maj_flt', 'fs_excl_counter', 'lock',\n",
    "       'utime', 'stime', 'gtime', 'cgtime', 'signal_nvcsw']\n",
    "\n"
   ]
  },
  {
   "cell_type": "markdown",
   "id": "c3bb15c3",
   "metadata": {},
   "source": [
    "## Finding outliers \n",
    "In this section, we'll we finding outliers for each column (if exists) and will remove them, inorder to get a consistent data"
   ]
  },
  {
   "cell_type": "code",
   "execution_count": 43,
   "id": "b93b8a94",
   "metadata": {},
   "outputs": [
    {
     "data": {
      "text/plain": [
       "<AxesSubplot:xlabel='millisecond'>"
      ]
     },
     "execution_count": 43,
     "metadata": {},
     "output_type": "execute_result"
    },
    {
     "data": {
      "image/png": "[encoded data removed]",
      "text/plain": [
       "<Figure size 432x288 with 1 Axes>"
      ]
     },
     "metadata": {
      "needs_background": "light"
     },
     "output_type": "display_data"
    }
   ],
   "source": [
    "sns.boxplot(x = data['millisecond'])"
   ]
  },
  {
   "cell_type": "code",
   "execution_count": 65,
   "id": "76d6d048",
   "metadata": {},
   "outputs": [
    {
     "data": {
      "text/plain": [
       "<AxesSubplot:xlabel='classification'>"
      ]
     },
     "execution_count": 65,
     "metadata": {},
     "output_type": "execute_result"
    },
    {
     "data": {
      "image/png": "[encoded data removed]",
      "text/plain": [
       "<Figure size 432x288 with 1 Axes>"
      ]
     },
     "metadata": {
      "needs_background": "light"
     },
     "output_type": "display_data"
    }
   ],
   "source": [
    "sns.boxplot(x = data['classification'])"
   ]
  },
  {
   "cell_type": "code",
   "execution_count": 45,
   "id": "31d07883",
   "metadata": {},
   "outputs": [
    {
     "data": {
      "text/plain": [
       "<AxesSubplot:xlabel='state'>"
      ]
     },
     "execution_count": 45,
     "metadata": {},
     "output_type": "execute_result"
    },
    {
     "data": {
      "image/png": "[encoded data removed]",
      "text/plain": [
       "<Figure size 432x288 with 1 Axes>"
      ]
     },
     "metadata": {
      "needs_background": "light"
     },
     "output_type": "display_data"
    }
   ],
   "source": [
    "sns.boxplot(x = data['state'])"
   ]
  },
  {
   "cell_type": "code",
   "execution_count": 61,
   "id": "ce6936cf",
   "metadata": {},
   "outputs": [
    {
     "data": {
      "text/plain": [
       "<AxesSubplot:xlabel='gtime'>"
      ]
     },
     "execution_count": 61,
     "metadata": {},
     "output_type": "execute_result"
    },
    {
     "data": {
      "image/png": "[encoded data removed]",
      "text/plain": [
       "<Figure size 432x288 with 1 Axes>"
      ]
     },
     "metadata": {
      "needs_background": "light"
     },
     "output_type": "display_data"
    }
   ],
   "source": [
    "sns.boxplot(x = data['gtime'])"
   ]
  },
  {
   "cell_type": "code",
   "execution_count": 62,
   "id": "fc5f1e8c",
   "metadata": {},
   "outputs": [
    {
     "data": {
      "text/plain": [
       "<AxesSubplot:xlabel='fs_excl_counter'>"
      ]
     },
     "execution_count": 62,
     "metadata": {},
     "output_type": "execute_result"
    },
    {
     "data": {
      "image/png": "[encoded data removed]",
      "text/plain": [
       "<Figure size 432x288 with 1 Axes>"
      ]
     },
     "metadata": {
      "needs_background": "light"
     },
     "output_type": "display_data"
    }
   ],
   "source": [
    "sns.boxplot(x = data['fs_excl_counter'])"
   ]
  },
  {
   "cell_type": "code",
   "execution_count": 63,
   "id": "30a69296",
   "metadata": {},
   "outputs": [
    {
     "data": {
      "text/plain": [
       "<AxesSubplot:xlabel='min_flt'>"
      ]
     },
     "execution_count": 63,
     "metadata": {},
     "output_type": "execute_result"
    },
    {
     "data": {
      "image/png": "[encoded data removed]",
      "text/plain": [
       "<Figure size 432x288 with 1 Axes>"
      ]
     },
     "metadata": {
      "needs_background": "light"
     },
     "output_type": "display_data"
    }
   ],
   "source": [
    "sns.boxplot(x = data['min_flt'])"
   ]
  },
  {
   "cell_type": "code",
   "execution_count": 64,
   "id": "81c1bc14",
   "metadata": {},
   "outputs": [
    {
     "data": {
      "text/plain": [
       "<AxesSubplot:xlabel='nivcsw'>"
      ]
     },
     "execution_count": 64,
     "metadata": {},
     "output_type": "execute_result"
    },
    {
     "data": {
      "image/png": "[encoded data removed]",
      "text/plain": [
       "<Figure size 432x288 with 1 Axes>"
      ]
     },
     "metadata": {
      "needs_background": "light"
     },
     "output_type": "display_data"
    }
   ],
   "source": [
    "sns.boxplot(x = data['nivcsw'])"
   ]
  },
  {
   "cell_type": "code",
   "execution_count": 66,
   "id": "aa30e189",
   "metadata": {},
   "outputs": [
    {
     "data": {
      "text/plain": [
       "<AxesSubplot:xlabel='free_area_cache'>"
      ]
     },
     "execution_count": 66,
     "metadata": {},
     "output_type": "execute_result"
    },
    {
     "data": {
      "image/png": "[encoded data removed]",
      "text/plain": [
       "<Figure size 432x288 with 1 Axes>"
      ]
     },
     "metadata": {
      "needs_background": "light"
     },
     "output_type": "display_data"
    }
   ],
   "source": [
    "sns.boxplot(x = data['free_area_cache'])"
   ]
  },
  {
   "cell_type": "code",
   "execution_count": 67,
   "id": "16b00835",
   "metadata": {},
   "outputs": [
    {
     "data": {
      "text/plain": [
       "<AxesSubplot:xlabel='mm_users'>"
      ]
     },
     "execution_count": 67,
     "metadata": {},
     "output_type": "execute_result"
    },
    {
     "data": {
      "image/png": "[encoded data removed]",
      "text/plain": [
       "<Figure size 432x288 with 1 Axes>"
      ]
     },
     "metadata": {
      "needs_background": "light"
     },
     "output_type": "display_data"
    }
   ],
   "source": [
    "sns.boxplot(x = data['mm_users'])"
   ]
  },
  {
   "cell_type": "code",
   "execution_count": 68,
   "id": "b779b6e6",
   "metadata": {},
   "outputs": [
    {
     "data": {
      "text/plain": [
       "<AxesSubplot:xlabel='map_count'>"
      ]
     },
     "execution_count": 68,
     "metadata": {},
     "output_type": "execute_result"
    },
    {
     "data": {
      "image/png": "[encoded data removed]",
      "text/plain": [
       "<Figure size 432x288 with 1 Axes>"
      ]
     },
     "metadata": {
      "needs_background": "light"
     },
     "output_type": "display_data"
    }
   ],
   "source": [
    "sns.boxplot(x = data['map_count'])"
   ]
  },
  {
   "cell_type": "code",
   "execution_count": 69,
   "id": "6e63151a",
   "metadata": {},
   "outputs": [
    {
     "data": {
      "text/plain": [
       "<AxesSubplot:xlabel='end_data'>"
      ]
     },
     "execution_count": 69,
     "metadata": {},
     "output_type": "execute_result"
    },
    {
     "data": {
      "image/png": "[encoded data removed]",
      "text/plain": [
       "<Figure size 432x288 with 1 Axes>"
      ]
     },
     "metadata": {
      "needs_background": "light"
     },
     "output_type": "display_data"
    }
   ],
   "source": [
    "sns.boxplot(x = data['end_data'])"
   ]
  },
  {
   "cell_type": "code",
   "execution_count": 70,
   "id": "e9c04fca",
   "metadata": {},
   "outputs": [
    {
     "data": {
      "text/plain": [
       "<AxesSubplot:xlabel='total_vm'>"
      ]
     },
     "execution_count": 70,
     "metadata": {},
     "output_type": "execute_result"
    },
    {
     "data": {
      "image/png": "[encoded data removed]",
      "text/plain": [
       "<Figure size 432x288 with 1 Axes>"
      ]
     },
     "metadata": {
      "needs_background": "light"
     },
     "output_type": "display_data"
    }
   ],
   "source": [
    "sns.boxplot(x = data['total_vm'])"
   ]
  },
  {
   "cell_type": "code",
   "execution_count": 71,
   "id": "18e7b978",
   "metadata": {},
   "outputs": [
    {
     "data": {
      "text/plain": [
       "<AxesSubplot:xlabel='nvcsw'>"
      ]
     },
     "execution_count": 71,
     "metadata": {},
     "output_type": "execute_result"
    },
    {
     "data": {
      "image/png": "[encoded data removed]",
      "text/plain": [
       "<Figure size 432x288 with 1 Axes>"
      ]
     },
     "metadata": {
      "needs_background": "light"
     },
     "output_type": "display_data"
    }
   ],
   "source": [
    "sns.boxplot(x = data['nvcsw'])"
   ]
  },
  {
   "cell_type": "markdown",
   "id": "acef2699",
   "metadata": {},
   "source": [
    "And these exists more such columns with many outliers and also there exists some columns that does not have any value other than 0, so we will remove outliers from the columns with it, and dropping off the columns that have all the row value as 0"
   ]
  },
  {
   "cell_type": "code",
   "execution_count": 85,
   "id": "f9116914",
   "metadata": {},
   "outputs": [
    {
     "data": {
      "text/html": [
       "<div>\n",
       "<style scoped>\n",
       "    .dataframe tbody tr th:only-of-type {\n",
       "        vertical-align: middle;\n",
       "    }\n",
       "\n",
       "    .dataframe tbody tr th {\n",
       "        vertical-align: top;\n",
       "    }\n",
       "\n",
       "    .dataframe thead th {\n",
       "        text-align: right;\n",
       "    }\n",
       "</style>\n",
       "<table border=\"1\" class=\"dataframe\">\n",
       "  <thead>\n",
       "    <tr style=\"text-align: right;\">\n",
       "      <th></th>\n",
       "      <th>millisecond</th>\n",
       "      <th>classification</th>\n",
       "      <th>state</th>\n",
       "      <th>prio</th>\n",
       "      <th>static_prio</th>\n",
       "      <th>vm_truncate_count</th>\n",
       "      <th>free_area_cache</th>\n",
       "      <th>mm_users</th>\n",
       "      <th>map_count</th>\n",
       "      <th>total_vm</th>\n",
       "      <th>...</th>\n",
       "      <th>last_interval</th>\n",
       "      <th>nvcsw</th>\n",
       "      <th>nivcsw</th>\n",
       "      <th>min_flt</th>\n",
       "      <th>maj_flt</th>\n",
       "      <th>fs_excl_counter</th>\n",
       "      <th>lock</th>\n",
       "      <th>utime</th>\n",
       "      <th>stime</th>\n",
       "      <th>gtime</th>\n",
       "    </tr>\n",
       "  </thead>\n",
       "  <tbody>\n",
       "    <tr>\n",
       "      <th>0</th>\n",
       "      <td>0</td>\n",
       "      <td>1</td>\n",
       "      <td>0</td>\n",
       "      <td>3069378560</td>\n",
       "      <td>14274</td>\n",
       "      <td>13173</td>\n",
       "      <td>24</td>\n",
       "      <td>724</td>\n",
       "      <td>6850</td>\n",
       "      <td>150</td>\n",
       "      <td>...</td>\n",
       "      <td>3473</td>\n",
       "      <td>341974</td>\n",
       "      <td>0</td>\n",
       "      <td>0</td>\n",
       "      <td>120</td>\n",
       "      <td>0</td>\n",
       "      <td>3204448256</td>\n",
       "      <td>380690</td>\n",
       "      <td>4</td>\n",
       "      <td>0</td>\n",
       "    </tr>\n",
       "    <tr>\n",
       "      <th>1</th>\n",
       "      <td>1</td>\n",
       "      <td>1</td>\n",
       "      <td>0</td>\n",
       "      <td>3069378560</td>\n",
       "      <td>14274</td>\n",
       "      <td>13173</td>\n",
       "      <td>24</td>\n",
       "      <td>724</td>\n",
       "      <td>6850</td>\n",
       "      <td>150</td>\n",
       "      <td>...</td>\n",
       "      <td>3473</td>\n",
       "      <td>341974</td>\n",
       "      <td>0</td>\n",
       "      <td>0</td>\n",
       "      <td>120</td>\n",
       "      <td>0</td>\n",
       "      <td>3204448256</td>\n",
       "      <td>380690</td>\n",
       "      <td>4</td>\n",
       "      <td>0</td>\n",
       "    </tr>\n",
       "    <tr>\n",
       "      <th>2</th>\n",
       "      <td>2</td>\n",
       "      <td>1</td>\n",
       "      <td>0</td>\n",
       "      <td>3069378560</td>\n",
       "      <td>14274</td>\n",
       "      <td>13173</td>\n",
       "      <td>24</td>\n",
       "      <td>724</td>\n",
       "      <td>6850</td>\n",
       "      <td>150</td>\n",
       "      <td>...</td>\n",
       "      <td>3473</td>\n",
       "      <td>341974</td>\n",
       "      <td>0</td>\n",
       "      <td>0</td>\n",
       "      <td>120</td>\n",
       "      <td>0</td>\n",
       "      <td>3204448256</td>\n",
       "      <td>380690</td>\n",
       "      <td>4</td>\n",
       "      <td>0</td>\n",
       "    </tr>\n",
       "    <tr>\n",
       "      <th>3</th>\n",
       "      <td>3</td>\n",
       "      <td>1</td>\n",
       "      <td>0</td>\n",
       "      <td>3069378560</td>\n",
       "      <td>14274</td>\n",
       "      <td>13173</td>\n",
       "      <td>24</td>\n",
       "      <td>724</td>\n",
       "      <td>6850</td>\n",
       "      <td>150</td>\n",
       "      <td>...</td>\n",
       "      <td>3473</td>\n",
       "      <td>341974</td>\n",
       "      <td>0</td>\n",
       "      <td>0</td>\n",
       "      <td>120</td>\n",
       "      <td>0</td>\n",
       "      <td>3204448256</td>\n",
       "      <td>380690</td>\n",
       "      <td>4</td>\n",
       "      <td>0</td>\n",
       "    </tr>\n",
       "    <tr>\n",
       "      <th>4</th>\n",
       "      <td>4</td>\n",
       "      <td>1</td>\n",
       "      <td>0</td>\n",
       "      <td>3069378560</td>\n",
       "      <td>14274</td>\n",
       "      <td>13173</td>\n",
       "      <td>24</td>\n",
       "      <td>724</td>\n",
       "      <td>6850</td>\n",
       "      <td>150</td>\n",
       "      <td>...</td>\n",
       "      <td>3473</td>\n",
       "      <td>341974</td>\n",
       "      <td>0</td>\n",
       "      <td>0</td>\n",
       "      <td>120</td>\n",
       "      <td>0</td>\n",
       "      <td>3204448256</td>\n",
       "      <td>380690</td>\n",
       "      <td>4</td>\n",
       "      <td>0</td>\n",
       "    </tr>\n",
       "  </tbody>\n",
       "</table>\n",
       "<p>5 rows × 24 columns</p>\n",
       "</div>"
      ],
      "text/plain": [
       "   millisecond  classification  state        prio  static_prio  \\\n",
       "0            0               1      0  3069378560        14274   \n",
       "1            1               1      0  3069378560        14274   \n",
       "2            2               1      0  3069378560        14274   \n",
       "3            3               1      0  3069378560        14274   \n",
       "4            4               1      0  3069378560        14274   \n",
       "\n",
       "   vm_truncate_count  free_area_cache  mm_users  map_count  total_vm  ...  \\\n",
       "0              13173               24       724       6850       150  ...   \n",
       "1              13173               24       724       6850       150  ...   \n",
       "2              13173               24       724       6850       150  ...   \n",
       "3              13173               24       724       6850       150  ...   \n",
       "4              13173               24       724       6850       150  ...   \n",
       "\n",
       "   last_interval   nvcsw  nivcsw  min_flt  maj_flt  fs_excl_counter  \\\n",
       "0           3473  341974       0        0      120                0   \n",
       "1           3473  341974       0        0      120                0   \n",
       "2           3473  341974       0        0      120                0   \n",
       "3           3473  341974       0        0      120                0   \n",
       "4           3473  341974       0        0      120                0   \n",
       "\n",
       "         lock   utime  stime  gtime  \n",
       "0  3204448256  380690      4      0  \n",
       "1  3204448256  380690      4      0  \n",
       "2  3204448256  380690      4      0  \n",
       "3  3204448256  380690      4      0  \n",
       "4  3204448256  380690      4      0  \n",
       "\n",
       "[5 rows x 24 columns]"
      ]
     },
     "execution_count": 85,
     "metadata": {},
     "output_type": "execute_result"
    }
   ],
   "source": [
    "data = data.drop(['hash', 'usage_counter', 'normal_prio', 'policy', 'vm_pgoff', 'task_size', 'cached_hole_size', 'hiwater_rss', 'nr_ptes', 'cgtime', 'signal_nvcsw'], axis=1)\n",
    "data.head()"
   ]
  },
  {
   "cell_type": "code",
   "execution_count": null,
   "id": "112fc0ed",
   "metadata": {},
   "outputs": [],
   "source": [
    "# So after observing the boxplots of different columns, we can see that there exists some outliers\n",
    "# So lets remove them\n",
    "Q1 = data.quantile(0.25)\n",
    "Q3 = data.quantile(0.75)\n",
    "\n",
    "# Calculating the IQR for each column\n",
    "IQR = Q3-Q1\n",
    "\n",
    "# Removing outliers\n",
    "z_score = stats.zscore(data)\n",
    "z = np.abs(z_score)\n",
    "new_data = data[(z<3).all(axis=1)]\n",
    "\n",
    "new_data.shape"
   ]
  },
  {
   "cell_type": "code",
   "execution_count": 115,
   "id": "cbb4db78",
   "metadata": {},
   "outputs": [
    {
     "data": {
      "text/plain": [
       "<AxesSubplot:xlabel='stime', ylabel='count'>"
      ]
     },
     "execution_count": 115,
     "metadata": {},
     "output_type": "execute_result"
    },
    {
     "data": {
      "image/png": "[encoded data removed]",
      "text/plain": [
       "<Figure size 1152x1152 with 16 Axes>"
      ]
     },
     "metadata": {},
     "output_type": "display_data"
    }
   ],
   "source": [
    "fig,axes = plt.subplots(8,2,figsize = (16,16))\n",
    "sns.set_style('darkgrid')\n",
    "fig.suptitle(\"Count plot for various categorical features\")\n",
    "\n",
    "sns.countplot(ax=axes[0,0],data=data,x='millisecond')\n",
    "sns.countplot(ax=axes[0,1],data=data,x='classification')\n",
    "sns.countplot(ax=axes[1,0],data=data,x='state')\n",
    "sns.countplot(ax=axes[1,1],data=data,x='prio')\n",
    "sns.countplot(ax=axes[2,0],data=data,x='static_prio')\n",
    "sns.countplot(ax=axes[2,1],data=data,x='vm_truncate_count')\n",
    "sns.countplot(ax=axes[3,0],data=data,x='free_area_cache')\n",
    "sns.countplot(ax=axes[3,1],data=data,x='mm_users')\n",
    "sns.countplot(ax=axes[4,0],data=data,x='map_count')\n",
    "sns.countplot(ax=axes[4,1],data=data,x='total_vm')\n",
    "sns.countplot(ax=axes[5,0],data=data,x='shared_vm')\n",
    "sns.countplot(ax=axes[5,1],data=data,x='exec_vm')\n",
    "sns.countplot(ax=axes[6,0],data=data,x='reserved_vm')\n",
    "sns.countplot(ax=axes[6,1],data=data,x='vm_truncate_count')\n",
    "sns.countplot(ax=axes[7,0],data=data,x='free_area_cache')\n",
    "sns.countplot(ax=axes[7,1],data=data,x='stime')"
   ]
  },
  {
   "cell_type": "code",
   "execution_count": 94,
   "id": "905849e0",
   "metadata": {},
   "outputs": [],
   "source": [
    "x = data.drop(\"classification\", axis=1)\n",
    "y = data['classification']\n",
    "\n",
    "x_train, x_test, y_train, y_test = train_test_split(x, y, test_size=0.3)"
   ]
  },
  {
   "cell_type": "code",
   "execution_count": 105,
   "id": "077dc3e3",
   "metadata": {},
   "outputs": [],
   "source": [
    "# Logistic Regression\n",
    "log_reg = LogisticRegression(random_state=0, solver='liblinear')\n",
    "log_reg.fit(x_train, y_train)\n",
    "yhat_log_reg = log_reg.predict(x_test)"
   ]
  },
  {
   "cell_type": "code",
   "execution_count": 106,
   "id": "e541b152",
   "metadata": {},
   "outputs": [],
   "source": [
    "# Random Forest\n",
    "rand_for = RandomForestClassifier(n_estimators=500)\n",
    "rand_for.fit(x_train,y_train)\n",
    "yhat_rand_for = rand_for.predict(x_test)"
   ]
  },
  {
   "cell_type": "code",
   "execution_count": 107,
   "id": "0055ab34",
   "metadata": {},
   "outputs": [
    {
     "name": "stderr",
     "output_type": "stream",
     "text": [
      "C:\\Users\\Snehil Seenu\\AppData\\Roaming\\Python\\Python39\\site-packages\\sklearn\\neighbors\\_classification.py:237: FutureWarning: Unlike other reduction functions (e.g. `skew`, `kurtosis`), the default behavior of `mode` typically preserves the axis it acts along. In SciPy 1.11.0, this behavior will change: the default value of `keepdims` will become False, the `axis` over which the statistic is taken will be eliminated, and the value None will no longer be accepted. Set `keepdims` to True or False to avoid this warning.\n",
      "  mode, _ = stats.mode(_y[neigh_ind, k], axis=1)\n"
     ]
    }
   ],
   "source": [
    "# KNN Model\n",
    "knn = KNeighborsClassifier(n_neighbors=15)\n",
    "clf = knn.fit(x_train, y_train)\n",
    "yhat_knn = clf.predict(x_test)"
   ]
  },
  {
   "cell_type": "code",
   "execution_count": 108,
   "id": "f9111c8c",
   "metadata": {},
   "outputs": [],
   "source": [
    "# Gaussian Naive Bayes\n",
    "gauNB = GaussianNB().fit(x_train, y_train)\n",
    "yhat_gauNB = gauNB.predict(x_test)"
   ]
  },
  {
   "cell_type": "code",
   "execution_count": 109,
   "id": "0f2f027b",
   "metadata": {},
   "outputs": [],
   "source": [
    "# Decision Tree Classifier\n",
    "dtc = tree.DecisionTreeClassifier().fit(x_train, y_train)\n",
    "yhat_dtc = dtc.predict(x_test)"
   ]
  },
  {
   "cell_type": "code",
   "execution_count": 110,
   "id": "323e6df7",
   "metadata": {},
   "outputs": [],
   "source": [
    "# SGD Classifier\n",
    "sgd=SGDClassifier()\n",
    "sgd.fit(x_train,y_train)\n",
    "yhat_sgd=sgd.predict(x_test)"
   ]
  },
  {
   "cell_type": "code",
   "execution_count": 112,
   "id": "5b2106a6",
   "metadata": {},
   "outputs": [
    {
     "name": "stdout",
     "output_type": "stream",
     "text": [
      "Logistic Regression ::  68.10000000000001\n",
      "Random Forest ::  100.0\n",
      "KNN ::  99.28666666666666\n",
      "Gaussian NB ::  61.75333333333334\n",
      "SGD Classifier ::  50.526666666666664\n"
     ]
    }
   ],
   "source": [
    "print(\"Logistic Regression :: \", metrics.accuracy_score(y_test,yhat_log_reg)*100)\n",
    "print(\"Random Forest :: \", metrics.accuracy_score(y_test, yhat_rand_for)*100)\n",
    "print(\"KNN :: \", metrics.accuracy_score(y_test,yhat_knn)*100)\n",
    "print(\"Gaussian NB :: \", metrics.accuracy_score(y_test, yhat_gauNB)*100)\n",
    "print(\"SGD Classifier :: \", metrics.accuracy_score(y_test,yhat_sgd)*100)\n",
    "# print(\"Random Forest :: \", metrics.accuracy_score(y_test, yhat_rand_for))"
   ]
  }
 ],
 "metadata": {
  "kernelspec": {
   "display_name": "Python 3 (ipykernel)",
   "language": "python",
   "name": "python3"
  },
  "language_info": {
   "codemirror_mode": {
    "name": "ipython",
    "version": 3
   },
   "file_extension": ".py",
   "mimetype": "text/x-python",
   "name": "python",
   "nbconvert_exporter": "python",
   "pygments_lexer": "ipython3",
   "version": "3.9.7"
  }
 },
 "nbformat": 4,
 "nbformat_minor": 5
}
