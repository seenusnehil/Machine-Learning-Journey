{
 "cells": [
  {
   "cell_type": "code",
   "execution_count": 12,
   "id": "aa427a62",
   "metadata": {},
   "outputs": [
    {
     "name": "stdout",
     "output_type": "stream",
     "text": [
      "Data pre normalization:\n",
      " [[180  15]\n",
      " [190  14]\n",
      " [210  13]\n",
      " [230  12]\n",
      " [235  15]\n",
      " [250  12]\n",
      " [260  15]]\n",
      "Data post normalization:\n",
      " [[-1.5183207   1.0062305 ]\n",
      " [-1.1580411   0.22360669]\n",
      " [-0.4374821  -0.5590171 ]\n",
      " [ 0.2830769  -1.341641  ]\n",
      " [ 0.46321666  1.0062305 ]\n",
      " [ 1.0036359  -1.341641  ]\n",
      " [ 1.3639154   1.0062305 ]]\n",
      "[[ 0.47104692 -0.56835407 -0.21018797]\n",
      " [ 0.9499991   1.0761969   0.3298955 ]] [0. 0. 0.]\n"
     ]
    }
   ],
   "source": [
    "# Importing important libraries for design neural network\n",
    "import numpy as np\n",
    "import tensorflow as tf\n",
    "from tensorflow import keras\n",
    "from tensorflow.keras import layers\n",
    "\n",
    "x_train = np.array([[180, 15], [190, 14], [210, 13], [230, 12], [235, 15], [250, 12], [260, 15]])\n",
    "y_train = np.array([1, 1, 0, 1, 0, 1, 0])\n",
    "\n",
    "print(f\"Data pre normalization:\\n {x_train}\")\n",
    "\n",
    "# creating a normalization layer\n",
    "norm = layers.Normalization(axis=1)\n",
    "\n",
    "#adapting the data - learns the mean and variance of the data set and saves the values internally\n",
    "norm.adapt(x_train) \n",
    "\n",
    "# normalizing the data set\n",
    "x_n = norm(x_train)\n",
    "print(f\"Data post normalization:\\n {x_n}\")\n",
    "\n",
    "model = keras.Sequential (\n",
    "    [\n",
    "        keras.Input(shape=(2,)),\n",
    "        layers.Dense(3, activation='sigmoid', name='layer1'),\n",
    "        layers.Dense(2, activation='sigmoid', name='layer2'),\n",
    "        layers.Dense(1, activation='sigmoid', name='layer3')\n",
    "    ],\n",
    "    name=\"Model for monitoring coffee roasting\"\n",
    ")\n",
    "\n",
    "# to extract the default weights and bias from the defined model\n",
    "w1, b1 = model.get_layer(\"layer1\").get_weights()\n",
    "print(w1, b1)"
   ]
  }
 ],
 "metadata": {
  "kernelspec": {
   "display_name": "Python 3 (ipykernel)",
   "language": "python",
   "name": "python3"
  },
  "language_info": {
   "codemirror_mode": {
    "name": "ipython",
    "version": 3
   },
   "file_extension": ".py",
   "mimetype": "text/x-python",
   "name": "python",
   "nbconvert_exporter": "python",
   "pygments_lexer": "ipython3",
   "version": "3.9.7"
  }
 },
 "nbformat": 4,
 "nbformat_minor": 5
}
