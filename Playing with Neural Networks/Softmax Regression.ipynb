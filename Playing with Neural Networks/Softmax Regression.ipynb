{
 "cells": [
  {
   "cell_type": "markdown",
   "id": "96182c9e",
   "metadata": {},
   "source": [
    "# Softmax Function"
   ]
  },
  {
   "cell_type": "code",
   "execution_count": null,
   "id": "da330638",
   "metadata": {},
   "outputs": [],
   "source": [
    "import numpy as np\n",
    "import tensorflow as tf\n",
    "from tensorflow import keras\n",
    "from tensorflow.keras import layers\n",
    "\n",
    "x_train = np.array([[180, 15], [190, 14], [210, 13], [230, 12], [235, 15], [250, 12], [260, 15]])\n",
    "y_train = np.array([1, 1, 0, 1, 0, 1, 0])\n",
    "\n",
    "# Normalizing the data\n",
    "norm = layers.Normalization(axis=-1)\n",
    "norm.adapt(x_train)\n",
    "x_n = norm(x_train)\n",
    "\n",
    "model = keras.Sequential (\n",
    "    [\n",
    "        keras.Input()\n",
    "        layers.Dense(15, activation='relu',name='hidden_layer1'),\n",
    "        layers.Dense(9, activation='relu',name='hidden_layer2'),\n",
    "        layers.Dense(3, activation='softmax',name='hidden_layer3')\n",
    "    ],\n",
    "    name=\"Softmax Model\"\n",
    ")\n",
    "\n",
    "model.compile(\n",
    "    loss=tf.keras.losses.SparseCategoricalCrossentropy(),\n",
    "    optimizer=tf.keras.optimizers.Adam(0.001),\n",
    ")\n",
    "\n",
    "model.fit(\n",
    "    X_train,y_train,\n",
    "    epochs=10\n",
    ")\n",
    "\n"
   ]
  }
 ],
 "metadata": {
  "kernelspec": {
   "display_name": "Python 3 (ipykernel)",
   "language": "python",
   "name": "python3"
  },
  "language_info": {
   "codemirror_mode": {
    "name": "ipython",
    "version": 3
   },
   "file_extension": ".py",
   "mimetype": "text/x-python",
   "name": "python",
   "nbconvert_exporter": "python",
   "pygments_lexer": "ipython3",
   "version": "3.9.7"
  }
 },
 "nbformat": 4,
 "nbformat_minor": 5
}
