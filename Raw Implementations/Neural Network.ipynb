{
 "cells": [
  {
   "cell_type": "markdown",
   "id": "7e215aa6",
   "metadata": {},
   "source": [
    "## Hard coding a simple neural network"
   ]
  },
  {
   "cell_type": "code",
   "execution_count": 20,
   "id": "e2ad1464",
   "metadata": {},
   "outputs": [],
   "source": [
    "# Importing library\n",
    "import numpy as np"
   ]
  },
  {
   "cell_type": "code",
   "execution_count": 18,
   "id": "8c17ac2d",
   "metadata": {},
   "outputs": [],
   "source": [
    "# Defining a function which will act as a layer and carry out its computations\n",
    "def neural_layer(x, neurons, w, b):\n",
    "    \n",
    "    # x is the training set\n",
    "    # neurons is the number of neurons/units the layer is carrying\n",
    "    # w is the set of 'weights' to train the data\n",
    "    # b is the constant parameter 'bias'\n",
    "    g_z = []\n",
    "    for i in range(neurons):\n",
    "        f_x = np.dot(x[i], w[i]) + b\n",
    "        g_z.append(1/(1 + np.exp(f_x)))  # This function changes as it depends on the type of activation function used.\n",
    "    \n",
    "    return g_z"
   ]
  },
  {
   "cell_type": "code",
   "execution_count": 19,
   "id": "663424d2",
   "metadata": {},
   "outputs": [
    {
     "name": "stdout",
     "output_type": "stream",
     "text": [
      "[0.047414725313189146]\n"
     ]
    }
   ],
   "source": [
    "# Hard coding the layers and their parameters\n",
    "# The following neural network contains 2 hidden layers, with 1 input and 1 output layer\n",
    "\n",
    "# Output from the first layer\n",
    "a1 = []\n",
    "\n",
    "# Output from the second layer\n",
    "a2 = []\n",
    "\n",
    "# Output of the final layer\n",
    "output = []\n",
    "\n",
    "# Defining layers\n",
    "a1 = neural_layer([[1, 2], [3, 4], [5, 6]], 3, [[1, 6], [4, 1], [6, 9]], 12)\n",
    "a2 = neural_layer(a1, 3, [[3, 4], [0, 0], [2, 7]], 9)\n",
    "output = neural_layer(a2, 1, [[2, 0], [1.5, 6.7], [8, 3]], 3)\n",
    "\n",
    "# Printing the final output\n",
    "print(output)"
   ]
  },
  {
   "cell_type": "markdown",
   "id": "b5cb580e",
   "metadata": {},
   "source": [
    "## Implementing Neural Network using Tensorflow"
   ]
  },
  {
   "cell_type": "code",
   "execution_count": null,
   "id": "acac9341",
   "metadata": {},
   "outputs": [],
   "source": [
    "import numpy as np\n",
    "import tensorflow as tf\n",
    "from tensorflow import keras\n",
    "from tf.keras.models import Sequential"
   ]
  },
  {
   "cell_type": "code",
   "execution_count": null,
   "id": "c006f524",
   "metadata": {},
   "outputs": [],
   "source": [
    "model = Sequential (\n",
    "    Dense.layer\n",
    ")"
   ]
  }
 ],
 "metadata": {
  "kernelspec": {
   "display_name": "Python 3 (ipykernel)",
   "language": "python",
   "name": "python3"
  },
  "language_info": {
   "codemirror_mode": {
    "name": "ipython",
    "version": 3
   },
   "file_extension": ".py",
   "mimetype": "text/x-python",
   "name": "python",
   "nbconvert_exporter": "python",
   "pygments_lexer": "ipython3",
   "version": "3.9.7"
  }
 },
 "nbformat": 4,
 "nbformat_minor": 5
}
