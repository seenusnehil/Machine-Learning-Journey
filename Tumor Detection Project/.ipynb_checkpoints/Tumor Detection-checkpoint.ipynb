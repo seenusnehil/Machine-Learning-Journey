{
 "cells": [
  {
   "cell_type": "markdown",
   "id": "e2bddb8c",
   "metadata": {},
   "source": [
    "# Tumor Detection Project"
   ]
  },
  {
   "cell_type": "markdown",
   "id": "94a1dc4f",
   "metadata": {},
   "source": [
    "### Basic Model\n",
    "Basic model to generate input for the uocoming sigmoid function"
   ]
  },
  {
   "cell_type": "code",
   "execution_count": null,
   "id": "ef808a09",
   "metadata": {},
   "outputs": [],
   "source": [
    "def model(x, w, x):\n",
    "    f_wb = np.dot(x, w) + b\n",
    "return f_wb"
   ]
  },
  {
   "cell_type": "markdown",
   "id": "42454e2d",
   "metadata": {},
   "source": [
    "### Sigmoid function\n",
    "\n",
    "It takes the value of the function we got from the model function above\n"
   ]
  },
  {
   "cell_type": "code",
   "execution_count": null,
   "id": "f8ec24a3",
   "metadata": {},
   "outputs": [],
   "source": [
    "def sigmoid(x, w, b):\n",
    "    z = model(x, w, b)\n",
    "    \n",
    "    g = 1/(1+np.exp(-z))\n",
    "    return g"
   ]
  },
  {
   "cell_type": "markdown",
   "id": "5929b06b",
   "metadata": {},
   "source": [
    "### Cost Function\n",
    "This function helps us calculate the cost of the sigmoid function we used inorder to analyse, how good out model is working."
   ]
  },
  {
   "cell_type": "code",
   "execution_count": null,
   "id": "6b2a0504",
   "metadata": {},
   "outputs": [],
   "source": [
    "def logistic_cost(x, y, w, b):\n",
    "    m = x.shape[0]\n",
    "    cost = 0.0 \n",
    "    \n",
    "    for i in range(m):\n",
    "        g = sigmoid(x[i], w, b)\n",
    "        cost += (-y[i]*np.log(g) - (1-y[i])*np.log(1-g))\n",
    "        \n",
    "    cost = cost/m\n",
    "    return cost"
   ]
  },
  {
   "cell_type": "markdown",
   "id": "b8f1aa87",
   "metadata": {},
   "source": [
    "### Gradient for this logstic regression\n",
    "This function helps to calculate the derivative of the cost function with respect to weights and bias. This helps us understand that where do we need to move inorder to minimize the cost function."
   ]
  },
  {
   "cell_type": "code",
   "execution_count": 1,
   "id": "38dbae26",
   "metadata": {},
   "outputs": [],
   "source": [
    "def gradient_logistic(x, y, w, b):\n",
    "    m, n = x.shape\n",
    "    dj_dw = np.zeros((n,))\n",
    "    dj_db = 0\n",
    "    \n",
    "    for i in range(m):\n",
    "        g = sigmoid(x[i], w, b)\n",
    "        err = g - y[i]\n",
    "        for j in range(n):\n",
    "            dj_dw[j] += err*x[i][j]\n",
    "        dj_db[j] += err\n",
    "    \n",
    "    dj_dw = dj_dw/m\n",
    "    dj_db = dj_db/m\n",
    "    \n",
    "    return dj_dw, dj_db"
   ]
  },
  {
   "cell_type": "markdown",
   "id": "50eeba9d",
   "metadata": {},
   "source": [
    "### Gradient Descent for Logistic Regression\n",
    "This algorithm let us choose a proper set of weights and bias that would be associated with the feature inputs. It helps us to get certain values of parameters that will help us to reduce the cost function, the overall cost of the function."
   ]
  },
  {
   "cell_type": "code",
   "execution_count": null,
   "id": "489baf08",
   "metadata": {},
   "outputs": [],
   "source": [
    "def gradient_descent(x, y, w_in, b_in, alpha, iterations):\n",
    "    \n",
    "    w = w_in\n",
    "    b = b_in\n",
    "    \n",
    "    for i in range(iterations):\n",
    "        dj_dw, dj_db = gradient(x, y, w, b)\n",
    "        \n",
    "        w = w - alpha*dj_dw\n",
    "        b = b - alpha*dj_db\n",
    "        \n",
    "    return w, b"
   ]
  },
  {
   "cell_type": "markdown",
   "id": "41baba0d",
   "metadata": {},
   "source": [
    "### Main Function\n",
    "All inputs and variable initialization is done in this region\n"
   ]
  },
  {
   "cell_type": "code",
   "execution_count": null,
   "id": "e99c81a6",
   "metadata": {},
   "outputs": [],
   "source": [
    "import numpy as np\n",
    "import matplotlib.pyplot as plt\n",
    "\n",
    "X_train = np.array([[0.5, 1.5], [1,1], [1.5, 0.5], [3, 0.5], [2, 2], [1, 2.5]])\n",
    "y_train = np.array([0, 0, 0, 1, 1, 1]) \n",
    "\n",
    "w_init = np.array([0.0, 0.0, 0.0, 0.0, 0.0, 0.0])\n",
    "b_init = 0.0\n",
    "\n"
   ]
  }
 ],
 "metadata": {
  "kernelspec": {
   "display_name": "Python 3 (ipykernel)",
   "language": "python",
   "name": "python3"
  },
  "language_info": {
   "codemirror_mode": {
    "name": "ipython",
    "version": 3
   },
   "file_extension": ".py",
   "mimetype": "text/x-python",
   "name": "python",
   "nbconvert_exporter": "python",
   "pygments_lexer": "ipython3",
   "version": "3.9.7"
  }
 },
 "nbformat": 4,
 "nbformat_minor": 5
}
